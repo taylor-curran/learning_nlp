{
 "cells": [
  {
   "cell_type": "code",
   "execution_count": 1,
   "metadata": {},
   "outputs": [],
   "source": [
    "import pandas as pd"
   ]
  },
  {
   "cell_type": "code",
   "execution_count": 2,
   "metadata": {},
   "outputs": [],
   "source": [
    "combined = pd.read_csv('../data/Combined_News_DJIA.csv')\n",
    "news = pd.read_csv('../data/RedditNews.csv')\n",
    "market = pd.read_csv('../data/upload_DJIA_table.csv')"
   ]
  },
  {
   "cell_type": "code",
   "execution_count": 3,
   "metadata": {},
   "outputs": [
    {
     "name": "stdout",
     "output_type": "stream",
     "text": [
      "(1989, 27)\n"
     ]
    },
    {
     "data": {
      "text/html": [
       "<div>\n",
       "<style scoped>\n",
       "    .dataframe tbody tr th:only-of-type {\n",
       "        vertical-align: middle;\n",
       "    }\n",
       "\n",
       "    .dataframe tbody tr th {\n",
       "        vertical-align: top;\n",
       "    }\n",
       "\n",
       "    .dataframe thead th {\n",
       "        text-align: right;\n",
       "    }\n",
       "</style>\n",
       "<table border=\"1\" class=\"dataframe\">\n",
       "  <thead>\n",
       "    <tr style=\"text-align: right;\">\n",
       "      <th></th>\n",
       "      <th>Date</th>\n",
       "      <th>Label</th>\n",
       "      <th>Top1</th>\n",
       "      <th>Top2</th>\n",
       "      <th>Top3</th>\n",
       "      <th>Top4</th>\n",
       "      <th>Top5</th>\n",
       "      <th>Top6</th>\n",
       "      <th>Top7</th>\n",
       "      <th>Top8</th>\n",
       "      <th>...</th>\n",
       "      <th>Top16</th>\n",
       "      <th>Top17</th>\n",
       "      <th>Top18</th>\n",
       "      <th>Top19</th>\n",
       "      <th>Top20</th>\n",
       "      <th>Top21</th>\n",
       "      <th>Top22</th>\n",
       "      <th>Top23</th>\n",
       "      <th>Top24</th>\n",
       "      <th>Top25</th>\n",
       "    </tr>\n",
       "  </thead>\n",
       "  <tbody>\n",
       "    <tr>\n",
       "      <th>0</th>\n",
       "      <td>2008-08-08</td>\n",
       "      <td>0</td>\n",
       "      <td>b\"Georgia 'downs two Russian warplanes' as cou...</td>\n",
       "      <td>b'BREAKING: Musharraf to be impeached.'</td>\n",
       "      <td>b'Russia Today: Columns of troops roll into So...</td>\n",
       "      <td>b'Russian tanks are moving towards the capital...</td>\n",
       "      <td>b\"Afghan children raped with 'impunity,' U.N. ...</td>\n",
       "      <td>b'150 Russian tanks have entered South Ossetia...</td>\n",
       "      <td>b\"Breaking: Georgia invades South Ossetia, Rus...</td>\n",
       "      <td>b\"The 'enemy combatent' trials are nothing but...</td>\n",
       "      <td>...</td>\n",
       "      <td>b'Georgia Invades South Ossetia - if Russia ge...</td>\n",
       "      <td>b'Al-Qaeda Faces Islamist Backlash'</td>\n",
       "      <td>b'Condoleezza Rice: \"The US would not act to p...</td>\n",
       "      <td>b'This is a busy day:  The European Union has ...</td>\n",
       "      <td>b\"Georgia will withdraw 1,000 soldiers from Ir...</td>\n",
       "      <td>b'Why the Pentagon Thinks Attacking Iran is a ...</td>\n",
       "      <td>b'Caucasus in crisis: Georgia invades South Os...</td>\n",
       "      <td>b'Indian shoe manufactory  - And again in a se...</td>\n",
       "      <td>b'Visitors Suffering from Mental Illnesses Ban...</td>\n",
       "      <td>b\"No Help for Mexico's Kidnapping Surge\"</td>\n",
       "    </tr>\n",
       "  </tbody>\n",
       "</table>\n",
       "<p>1 rows × 27 columns</p>\n",
       "</div>"
      ],
      "text/plain": [
       "         Date  Label                                               Top1  \\\n",
       "0  2008-08-08      0  b\"Georgia 'downs two Russian warplanes' as cou...   \n",
       "\n",
       "                                      Top2  \\\n",
       "0  b'BREAKING: Musharraf to be impeached.'   \n",
       "\n",
       "                                                Top3  \\\n",
       "0  b'Russia Today: Columns of troops roll into So...   \n",
       "\n",
       "                                                Top4  \\\n",
       "0  b'Russian tanks are moving towards the capital...   \n",
       "\n",
       "                                                Top5  \\\n",
       "0  b\"Afghan children raped with 'impunity,' U.N. ...   \n",
       "\n",
       "                                                Top6  \\\n",
       "0  b'150 Russian tanks have entered South Ossetia...   \n",
       "\n",
       "                                                Top7  \\\n",
       "0  b\"Breaking: Georgia invades South Ossetia, Rus...   \n",
       "\n",
       "                                                Top8  ...  \\\n",
       "0  b\"The 'enemy combatent' trials are nothing but...  ...   \n",
       "\n",
       "                                               Top16  \\\n",
       "0  b'Georgia Invades South Ossetia - if Russia ge...   \n",
       "\n",
       "                                 Top17  \\\n",
       "0  b'Al-Qaeda Faces Islamist Backlash'   \n",
       "\n",
       "                                               Top18  \\\n",
       "0  b'Condoleezza Rice: \"The US would not act to p...   \n",
       "\n",
       "                                               Top19  \\\n",
       "0  b'This is a busy day:  The European Union has ...   \n",
       "\n",
       "                                               Top20  \\\n",
       "0  b\"Georgia will withdraw 1,000 soldiers from Ir...   \n",
       "\n",
       "                                               Top21  \\\n",
       "0  b'Why the Pentagon Thinks Attacking Iran is a ...   \n",
       "\n",
       "                                               Top22  \\\n",
       "0  b'Caucasus in crisis: Georgia invades South Os...   \n",
       "\n",
       "                                               Top23  \\\n",
       "0  b'Indian shoe manufactory  - And again in a se...   \n",
       "\n",
       "                                               Top24  \\\n",
       "0  b'Visitors Suffering from Mental Illnesses Ban...   \n",
       "\n",
       "                                      Top25  \n",
       "0  b\"No Help for Mexico's Kidnapping Surge\"  \n",
       "\n",
       "[1 rows x 27 columns]"
      ]
     },
     "execution_count": 3,
     "metadata": {},
     "output_type": "execute_result"
    }
   ],
   "source": [
    "print(combined.shape)\n",
    "combined.head(1)"
   ]
  },
  {
   "cell_type": "code",
   "execution_count": 4,
   "metadata": {},
   "outputs": [
    {
     "data": {
      "text/html": [
       "<div>\n",
       "<style scoped>\n",
       "    .dataframe tbody tr th:only-of-type {\n",
       "        vertical-align: middle;\n",
       "    }\n",
       "\n",
       "    .dataframe tbody tr th {\n",
       "        vertical-align: top;\n",
       "    }\n",
       "\n",
       "    .dataframe thead th {\n",
       "        text-align: right;\n",
       "    }\n",
       "</style>\n",
       "<table border=\"1\" class=\"dataframe\">\n",
       "  <thead>\n",
       "    <tr style=\"text-align: right;\">\n",
       "      <th></th>\n",
       "      <th>Date</th>\n",
       "      <th>Label</th>\n",
       "      <th>Top1</th>\n",
       "      <th>Top2</th>\n",
       "      <th>Top3</th>\n",
       "      <th>Top4</th>\n",
       "      <th>Top5</th>\n",
       "      <th>Top6</th>\n",
       "      <th>Top7</th>\n",
       "      <th>Top8</th>\n",
       "      <th>...</th>\n",
       "      <th>Top16</th>\n",
       "      <th>Top17</th>\n",
       "      <th>Top18</th>\n",
       "      <th>Top19</th>\n",
       "      <th>Top20</th>\n",
       "      <th>Top21</th>\n",
       "      <th>Top22</th>\n",
       "      <th>Top23</th>\n",
       "      <th>Top24</th>\n",
       "      <th>Top25</th>\n",
       "    </tr>\n",
       "  </thead>\n",
       "  <tbody>\n",
       "    <tr>\n",
       "      <th>0</th>\n",
       "      <td>2008-08-08</td>\n",
       "      <td>0</td>\n",
       "      <td>Georgia 'downs two Russian warplanes' as count...</td>\n",
       "      <td>'BREAKING: Musharraf to be impeached.'</td>\n",
       "      <td>'Russia Today: Columns of troops roll into Sou...</td>\n",
       "      <td>'Russian tanks are moving towards the capital ...</td>\n",
       "      <td>Afghan children raped with 'impunity,' U.N. of...</td>\n",
       "      <td>'150 Russian tanks have entered South Ossetia ...</td>\n",
       "      <td>Breaking: Georgia invades South Ossetia, Russi...</td>\n",
       "      <td>The 'enemy combatent' trials are nothing but a...</td>\n",
       "      <td>...</td>\n",
       "      <td>'Georgia Invades South Ossetia - if Russia get...</td>\n",
       "      <td>'Al-Qaeda Faces Islamist Backlash'</td>\n",
       "      <td>'Condoleezza Rice: \"The US would not act to pr...</td>\n",
       "      <td>'This is a busy day:  The European Union has a...</td>\n",
       "      <td>Georgia will withdraw 1,000 soldiers from Iraq...</td>\n",
       "      <td>'Why the Pentagon Thinks Attacking Iran is a B...</td>\n",
       "      <td>'Caucasus in crisis: Georgia invades South Oss...</td>\n",
       "      <td>'Indian shoe manufactory  - And again in a ser...</td>\n",
       "      <td>'Visitors Suffering from Mental Illnesses Bann...</td>\n",
       "      <td>No Help for Mexico's Kidnapping Surge\"</td>\n",
       "    </tr>\n",
       "    <tr>\n",
       "      <th>1</th>\n",
       "      <td>2008-08-11</td>\n",
       "      <td>1</td>\n",
       "      <td>'Why wont America and Nato help us? If they wo...</td>\n",
       "      <td>'Bush puts foot down on Georgian conflict'</td>\n",
       "      <td>Jewish Georgian minister: Thanks to Israeli tr...</td>\n",
       "      <td>'Georgian army flees in disarray as Russians a...</td>\n",
       "      <td>Olympic opening ceremony fireworks 'faked'\"</td>\n",
       "      <td>'What were the Mossad with fraudulent New Zeal...</td>\n",
       "      <td>'Russia angered by Israeli military sale to Ge...</td>\n",
       "      <td>'An American citizen living in S.Ossetia blame...</td>\n",
       "      <td>...</td>\n",
       "      <td>'Israel and the US behind the Georgian aggress...</td>\n",
       "      <td>'\"Do not believe TV, neither Russian nor Georg...</td>\n",
       "      <td>'Riots are still going on in Montreal (Canada)...</td>\n",
       "      <td>'China to overtake US as largest manufacturer'</td>\n",
       "      <td>'War in South Ossetia [PICS]'</td>\n",
       "      <td>'Israeli Physicians Group Condemns State Torture'</td>\n",
       "      <td>' Russia has just beaten the United States ove...</td>\n",
       "      <td>'Perhaps *the* question about the Georgia - Ru...</td>\n",
       "      <td>'Russia is so much better at war'</td>\n",
       "      <td>So this is what it's come to: trading sex for ...</td>\n",
       "    </tr>\n",
       "  </tbody>\n",
       "</table>\n",
       "<p>2 rows × 27 columns</p>\n",
       "</div>"
      ],
      "text/plain": [
       "         Date  Label                                               Top1  \\\n",
       "0  2008-08-08      0  Georgia 'downs two Russian warplanes' as count...   \n",
       "1  2008-08-11      1  'Why wont America and Nato help us? If they wo...   \n",
       "\n",
       "                                         Top2  \\\n",
       "0      'BREAKING: Musharraf to be impeached.'   \n",
       "1  'Bush puts foot down on Georgian conflict'   \n",
       "\n",
       "                                                Top3  \\\n",
       "0  'Russia Today: Columns of troops roll into Sou...   \n",
       "1  Jewish Georgian minister: Thanks to Israeli tr...   \n",
       "\n",
       "                                                Top4  \\\n",
       "0  'Russian tanks are moving towards the capital ...   \n",
       "1  'Georgian army flees in disarray as Russians a...   \n",
       "\n",
       "                                                Top5  \\\n",
       "0  Afghan children raped with 'impunity,' U.N. of...   \n",
       "1        Olympic opening ceremony fireworks 'faked'\"   \n",
       "\n",
       "                                                Top6  \\\n",
       "0  '150 Russian tanks have entered South Ossetia ...   \n",
       "1  'What were the Mossad with fraudulent New Zeal...   \n",
       "\n",
       "                                                Top7  \\\n",
       "0  Breaking: Georgia invades South Ossetia, Russi...   \n",
       "1  'Russia angered by Israeli military sale to Ge...   \n",
       "\n",
       "                                                Top8  ...  \\\n",
       "0  The 'enemy combatent' trials are nothing but a...  ...   \n",
       "1  'An American citizen living in S.Ossetia blame...  ...   \n",
       "\n",
       "                                               Top16  \\\n",
       "0  'Georgia Invades South Ossetia - if Russia get...   \n",
       "1  'Israel and the US behind the Georgian aggress...   \n",
       "\n",
       "                                               Top17  \\\n",
       "0                 'Al-Qaeda Faces Islamist Backlash'   \n",
       "1  '\"Do not believe TV, neither Russian nor Georg...   \n",
       "\n",
       "                                               Top18  \\\n",
       "0  'Condoleezza Rice: \"The US would not act to pr...   \n",
       "1  'Riots are still going on in Montreal (Canada)...   \n",
       "\n",
       "                                               Top19  \\\n",
       "0  'This is a busy day:  The European Union has a...   \n",
       "1     'China to overtake US as largest manufacturer'   \n",
       "\n",
       "                                               Top20  \\\n",
       "0  Georgia will withdraw 1,000 soldiers from Iraq...   \n",
       "1                      'War in South Ossetia [PICS]'   \n",
       "\n",
       "                                               Top21  \\\n",
       "0  'Why the Pentagon Thinks Attacking Iran is a B...   \n",
       "1  'Israeli Physicians Group Condemns State Torture'   \n",
       "\n",
       "                                               Top22  \\\n",
       "0  'Caucasus in crisis: Georgia invades South Oss...   \n",
       "1  ' Russia has just beaten the United States ove...   \n",
       "\n",
       "                                               Top23  \\\n",
       "0  'Indian shoe manufactory  - And again in a ser...   \n",
       "1  'Perhaps *the* question about the Georgia - Ru...   \n",
       "\n",
       "                                               Top24  \\\n",
       "0  'Visitors Suffering from Mental Illnesses Bann...   \n",
       "1                  'Russia is so much better at war'   \n",
       "\n",
       "                                               Top25  \n",
       "0             No Help for Mexico's Kidnapping Surge\"  \n",
       "1  So this is what it's come to: trading sex for ...  \n",
       "\n",
       "[2 rows x 27 columns]"
      ]
     },
     "execution_count": 4,
     "metadata": {},
     "output_type": "execute_result"
    }
   ],
   "source": [
    "# Remove 'b'-prefixes\n",
    "# Applymap -> Like .apply() but Applied to Entire DF\n",
    "combined = combined.applymap(lambda cell: cell.strip() if type(cell)==str else cell)\n",
    "combined = combined.applymap(lambda cell: cell.lstrip('b\"') if type(cell)==str else cell)\n",
    "combined.head(2)"
   ]
  },
  {
   "cell_type": "code",
   "execution_count": 5,
   "metadata": {},
   "outputs": [
    {
     "name": "stdout",
     "output_type": "stream",
     "text": [
      "(1989, 3)\n"
     ]
    },
    {
     "data": {
      "text/html": [
       "<div>\n",
       "<style scoped>\n",
       "    .dataframe tbody tr th:only-of-type {\n",
       "        vertical-align: middle;\n",
       "    }\n",
       "\n",
       "    .dataframe tbody tr th {\n",
       "        vertical-align: top;\n",
       "    }\n",
       "\n",
       "    .dataframe thead th {\n",
       "        text-align: right;\n",
       "    }\n",
       "</style>\n",
       "<table border=\"1\" class=\"dataframe\">\n",
       "  <thead>\n",
       "    <tr style=\"text-align: right;\">\n",
       "      <th></th>\n",
       "      <th>Date</th>\n",
       "      <th>Label</th>\n",
       "      <th>Top1</th>\n",
       "    </tr>\n",
       "  </thead>\n",
       "  <tbody>\n",
       "    <tr>\n",
       "      <th>0</th>\n",
       "      <td>2008-08-08</td>\n",
       "      <td>0</td>\n",
       "      <td>Georgia 'downs two Russian warplanes' as count...</td>\n",
       "    </tr>\n",
       "    <tr>\n",
       "      <th>1</th>\n",
       "      <td>2008-08-11</td>\n",
       "      <td>1</td>\n",
       "      <td>'Why wont America and Nato help us? If they wo...</td>\n",
       "    </tr>\n",
       "    <tr>\n",
       "      <th>2</th>\n",
       "      <td>2008-08-12</td>\n",
       "      <td>0</td>\n",
       "      <td>'Remember that adorable 9-year-old who sang at...</td>\n",
       "    </tr>\n",
       "  </tbody>\n",
       "</table>\n",
       "</div>"
      ],
      "text/plain": [
       "         Date  Label                                               Top1\n",
       "0  2008-08-08      0  Georgia 'downs two Russian warplanes' as count...\n",
       "1  2008-08-11      1  'Why wont America and Nato help us? If they wo...\n",
       "2  2008-08-12      0  'Remember that adorable 9-year-old who sang at..."
      ]
     },
     "execution_count": 5,
     "metadata": {},
     "output_type": "execute_result"
    }
   ],
   "source": [
    "# Sample Corpus from Combined DF\n",
    "# -- Includes Only Top1 Headlines\n",
    "corpus = combined[['Date', 'Label', 'Top1']]\n",
    "print(corpus.shape)\n",
    "corpus.head(3)"
   ]
  },
  {
   "cell_type": "code",
   "execution_count": 6,
   "metadata": {},
   "outputs": [],
   "source": [
    "# We will create a document-term matrix using a bag-of-words approach."
   ]
  },
  {
   "cell_type": "markdown",
   "metadata": {},
   "source": [
    "#### document-term matrix =\n",
    "- each **col** represents a word and\n",
    "- each **row** represents a documnent\n",
    "- the value in every cell can represent things:\n",
    "    - Most traditionally, it is a count of how many times a word appears in a doc.\n",
    "    - It can also be a boolean, does this word appear at all.\n",
    "    - TF-IDF: term-frequency inverse document-frequency\n",
    "\n",
    "#### Bag of Words = Counting the Appearance of Words to try to predict something.\n",
    "Bag of words can be good for classification problems.\n",
    "- Why is bag of words good for classification?"
   ]
  },
  {
   "cell_type": "code",
   "execution_count": 7,
   "metadata": {},
   "outputs": [],
   "source": [
    "import spacy\n",
    "\n",
    "# load NN sm, md, lg etc.\n",
    "nlp = spacy.load(\"en_core_web_lg\")"
   ]
  },
  {
   "cell_type": "code",
   "execution_count": 8,
   "metadata": {},
   "outputs": [],
   "source": [
    "tokens = []\n",
    "\n",
    "# Tokenize Corpus\n",
    "for doc in nlp.pipe(corpus['Top1'], batch_size=500):\n",
    "    doc_tokens = []\n",
    "    for token in doc:\n",
    "        if (token.is_stop == False) & (token.is_punct == False) & (token.is_space == False):\n",
    "            doc_tokens.append(token.text.lower())\n",
    "        \n",
    "    tokens.append(doc_tokens)\n",
    "\n",
    "# Create New Tokens Column in Corpus DF     \n",
    "corpus.insert(3, 'tokens', tokens)"
   ]
  },
  {
   "cell_type": "code",
   "execution_count": 9,
   "metadata": {},
   "outputs": [
    {
     "data": {
      "text/html": [
       "<div>\n",
       "<style scoped>\n",
       "    .dataframe tbody tr th:only-of-type {\n",
       "        vertical-align: middle;\n",
       "    }\n",
       "\n",
       "    .dataframe tbody tr th {\n",
       "        vertical-align: top;\n",
       "    }\n",
       "\n",
       "    .dataframe thead th {\n",
       "        text-align: right;\n",
       "    }\n",
       "</style>\n",
       "<table border=\"1\" class=\"dataframe\">\n",
       "  <thead>\n",
       "    <tr style=\"text-align: right;\">\n",
       "      <th></th>\n",
       "      <th>Date</th>\n",
       "      <th>Label</th>\n",
       "      <th>Top1</th>\n",
       "      <th>tokens</th>\n",
       "    </tr>\n",
       "  </thead>\n",
       "  <tbody>\n",
       "    <tr>\n",
       "      <th>0</th>\n",
       "      <td>2008-08-08</td>\n",
       "      <td>0</td>\n",
       "      <td>Georgia 'downs two Russian warplanes' as count...</td>\n",
       "      <td>[georgia, downs, russian, warplanes, countries...</td>\n",
       "    </tr>\n",
       "    <tr>\n",
       "      <th>1</th>\n",
       "      <td>2008-08-11</td>\n",
       "      <td>1</td>\n",
       "      <td>'Why wont America and Nato help us? If they wo...</td>\n",
       "      <td>[wo, nt, america, nato, help, wo, nt, help, he...</td>\n",
       "    </tr>\n",
       "  </tbody>\n",
       "</table>\n",
       "</div>"
      ],
      "text/plain": [
       "         Date  Label                                               Top1  \\\n",
       "0  2008-08-08      0  Georgia 'downs two Russian warplanes' as count...   \n",
       "1  2008-08-11      1  'Why wont America and Nato help us? If they wo...   \n",
       "\n",
       "                                              tokens  \n",
       "0  [georgia, downs, russian, warplanes, countries...  \n",
       "1  [wo, nt, america, nato, help, wo, nt, help, he...  "
      ]
     },
     "execution_count": 9,
     "metadata": {},
     "output_type": "execute_result"
    }
   ],
   "source": [
    "corpus.head(2)"
   ]
  },
  {
   "cell_type": "markdown",
   "metadata": {},
   "source": [
    "## But... we **won't be using Tokenization** with the Vectorizors"
   ]
  },
  {
   "cell_type": "markdown",
   "metadata": {},
   "source": [
    "### Count Vectorizor\n",
    "#### Vectorizor does NOT mean Word Embeddings\n",
    "-> Vectorizor are things that build Document Term Matricies\n",
    "- One of 3 BOW methods"
   ]
  },
  {
   "cell_type": "code",
   "execution_count": 10,
   "metadata": {},
   "outputs": [
    {
     "name": "stderr",
     "output_type": "stream",
     "text": [
      "/Users/taylorcurran/prj/predicting-market/venv/lib/python3.8/site-packages/sklearn/feature_extraction/text.py:383: UserWarning: Your stop_words may be inconsistent with your preprocessing. Tokenizing the stop words generated tokens ['ll', 've'] not in stop_words.\n",
      "  warnings.warn('Your stop_words may be inconsistent with '\n"
     ]
    }
   ],
   "source": [
    "# Building a Document Term Matrix\n",
    "\n",
    "from sklearn.feature_extraction.text import CountVectorizer\n",
    "\n",
    "# --- Key Arguments/Parameters for Count Vectorizor ---\n",
    "# max_features -> sets limit on vocabulary size aka Limit Features\n",
    "# - Only most common words are made into features.\n",
    "# max_df/min_df -> Limit Features by Document Frequency \n",
    "# -> Ignores terms that show up in greater than 90% of docs\n",
    "# --> Or less than 2% of docs for example\n",
    "# ngram_range -> range of n-values for different n-gram\n",
    "# or char n-grams to be extracted\n",
    "# You can also override scikit-learn's default tokenization.\n",
    "# Scikit-learns default tokenization is not as good as spaCy's.\n",
    "\n",
    "# Instantiate the Transformer\n",
    "vect = CountVectorizer(stop_words=nlp.Defaults.stop_words, \n",
    "                       max_features=1000)\n",
    "\n",
    "\n",
    "# Build Vocab\n",
    "# We simply pass an iterable of docs...\n",
    "# It 'tokenizes on its own...'\n",
    "# AKA it Builds the Vocab on its own\n",
    "# Tokenization -> One way to Build Vocab I think...\n",
    "\n",
    "# ?- Can this be improved using lemmitization? -?\n",
    "vect.fit(corpus['Top1'])\n",
    "\n",
    "# transform text - Count Vocab\n",
    "# Build the Matrix Using the Vocab Determined during the fit Command\n",
    "dtm = vect.transform(corpus['Top1'])"
   ]
  },
  {
   "cell_type": "code",
   "execution_count": 11,
   "metadata": {},
   "outputs": [
    {
     "name": "stdout",
     "output_type": "stream",
     "text": [
      "['000', '10', '100', '11', '12', '13', '14', '15', '16', '17', '18', '19', '1st', '20', '200', '2000', '2003', '2012', '2014', '2022', '22', '23', '25', '30', '300', '33', '35', '40', '400', '45', '50', '500', '60', '70', '90', 'abuse', 'access', 'according', 'account', 'accounts', 'accused', 'act', 'acta', 'action', 'actions', 'activist', 'actually', 'admits', 'afghan', 'afghanistan']\n"
     ]
    }
   ],
   "source": [
    "# Print Out Words in Vocabulary\n",
    "print(vect.get_feature_names()[0:50])"
   ]
  },
  {
   "cell_type": "code",
   "execution_count": 12,
   "metadata": {},
   "outputs": [
    {
     "name": "stdout",
     "output_type": "stream",
     "text": [
      "Type: <class 'scipy.sparse.csr.csr_matrix'>\n",
      "Shape: (1989, 1000)\n",
      "First 2 Values:\n",
      "  (0, 628)\t1\n",
      "  (0, 991)\t1\n"
     ]
    }
   ],
   "source": [
    "# The DTM is Values and their Location in Coordinates\n",
    "print('Type:', type(dtm))\n",
    "print('Shape:', dtm.shape)\n",
    "print('First 2 Values:')\n",
    "print(dtm[2]) # These are coordinates of the matrix :)"
   ]
  },
  {
   "cell_type": "code",
   "execution_count": 13,
   "metadata": {},
   "outputs": [
    {
     "name": "stdout",
     "output_type": "stream",
     "text": [
      "(1989, 1000)\n"
     ]
    },
    {
     "data": {
      "text/html": [
       "<div>\n",
       "<style scoped>\n",
       "    .dataframe tbody tr th:only-of-type {\n",
       "        vertical-align: middle;\n",
       "    }\n",
       "\n",
       "    .dataframe tbody tr th {\n",
       "        vertical-align: top;\n",
       "    }\n",
       "\n",
       "    .dataframe thead th {\n",
       "        text-align: right;\n",
       "    }\n",
       "</style>\n",
       "<table border=\"1\" class=\"dataframe\">\n",
       "  <thead>\n",
       "    <tr style=\"text-align: right;\">\n",
       "      <th></th>\n",
       "      <th>000</th>\n",
       "      <th>10</th>\n",
       "      <th>100</th>\n",
       "      <th>11</th>\n",
       "      <th>12</th>\n",
       "      <th>13</th>\n",
       "      <th>14</th>\n",
       "      <th>15</th>\n",
       "      <th>16</th>\n",
       "      <th>17</th>\n",
       "      <th>...</th>\n",
       "      <th>wtf</th>\n",
       "      <th>year</th>\n",
       "      <th>years</th>\n",
       "      <th>yemen</th>\n",
       "      <th>york</th>\n",
       "      <th>young</th>\n",
       "      <th>youth</th>\n",
       "      <th>youtube</th>\n",
       "      <th>yr</th>\n",
       "      <th>zealand</th>\n",
       "    </tr>\n",
       "  </thead>\n",
       "  <tbody>\n",
       "    <tr>\n",
       "      <th>0</th>\n",
       "      <td>0</td>\n",
       "      <td>0</td>\n",
       "      <td>0</td>\n",
       "      <td>0</td>\n",
       "      <td>0</td>\n",
       "      <td>0</td>\n",
       "      <td>0</td>\n",
       "      <td>0</td>\n",
       "      <td>0</td>\n",
       "      <td>0</td>\n",
       "      <td>...</td>\n",
       "      <td>0</td>\n",
       "      <td>0</td>\n",
       "      <td>0</td>\n",
       "      <td>0</td>\n",
       "      <td>0</td>\n",
       "      <td>0</td>\n",
       "      <td>0</td>\n",
       "      <td>0</td>\n",
       "      <td>0</td>\n",
       "      <td>0</td>\n",
       "    </tr>\n",
       "    <tr>\n",
       "      <th>1</th>\n",
       "      <td>0</td>\n",
       "      <td>0</td>\n",
       "      <td>0</td>\n",
       "      <td>0</td>\n",
       "      <td>0</td>\n",
       "      <td>0</td>\n",
       "      <td>0</td>\n",
       "      <td>0</td>\n",
       "      <td>0</td>\n",
       "      <td>0</td>\n",
       "      <td>...</td>\n",
       "      <td>0</td>\n",
       "      <td>0</td>\n",
       "      <td>0</td>\n",
       "      <td>0</td>\n",
       "      <td>0</td>\n",
       "      <td>0</td>\n",
       "      <td>0</td>\n",
       "      <td>0</td>\n",
       "      <td>0</td>\n",
       "      <td>0</td>\n",
       "    </tr>\n",
       "    <tr>\n",
       "      <th>2</th>\n",
       "      <td>0</td>\n",
       "      <td>0</td>\n",
       "      <td>0</td>\n",
       "      <td>0</td>\n",
       "      <td>0</td>\n",
       "      <td>0</td>\n",
       "      <td>0</td>\n",
       "      <td>0</td>\n",
       "      <td>0</td>\n",
       "      <td>0</td>\n",
       "      <td>...</td>\n",
       "      <td>0</td>\n",
       "      <td>1</td>\n",
       "      <td>0</td>\n",
       "      <td>0</td>\n",
       "      <td>0</td>\n",
       "      <td>0</td>\n",
       "      <td>0</td>\n",
       "      <td>0</td>\n",
       "      <td>0</td>\n",
       "      <td>0</td>\n",
       "    </tr>\n",
       "    <tr>\n",
       "      <th>3</th>\n",
       "      <td>0</td>\n",
       "      <td>0</td>\n",
       "      <td>0</td>\n",
       "      <td>0</td>\n",
       "      <td>0</td>\n",
       "      <td>0</td>\n",
       "      <td>0</td>\n",
       "      <td>0</td>\n",
       "      <td>0</td>\n",
       "      <td>0</td>\n",
       "      <td>...</td>\n",
       "      <td>0</td>\n",
       "      <td>0</td>\n",
       "      <td>0</td>\n",
       "      <td>0</td>\n",
       "      <td>0</td>\n",
       "      <td>0</td>\n",
       "      <td>0</td>\n",
       "      <td>0</td>\n",
       "      <td>0</td>\n",
       "      <td>0</td>\n",
       "    </tr>\n",
       "    <tr>\n",
       "      <th>4</th>\n",
       "      <td>0</td>\n",
       "      <td>0</td>\n",
       "      <td>0</td>\n",
       "      <td>0</td>\n",
       "      <td>0</td>\n",
       "      <td>0</td>\n",
       "      <td>0</td>\n",
       "      <td>0</td>\n",
       "      <td>0</td>\n",
       "      <td>0</td>\n",
       "      <td>...</td>\n",
       "      <td>0</td>\n",
       "      <td>0</td>\n",
       "      <td>0</td>\n",
       "      <td>0</td>\n",
       "      <td>0</td>\n",
       "      <td>0</td>\n",
       "      <td>0</td>\n",
       "      <td>0</td>\n",
       "      <td>0</td>\n",
       "      <td>0</td>\n",
       "    </tr>\n",
       "  </tbody>\n",
       "</table>\n",
       "<p>5 rows × 1000 columns</p>\n",
       "</div>"
      ],
      "text/plain": [
       "   000  10  100  11  12  13  14  15  16  17  ...  wtf  year  years  yemen  \\\n",
       "0    0   0    0   0   0   0   0   0   0   0  ...    0     0      0      0   \n",
       "1    0   0    0   0   0   0   0   0   0   0  ...    0     0      0      0   \n",
       "2    0   0    0   0   0   0   0   0   0   0  ...    0     1      0      0   \n",
       "3    0   0    0   0   0   0   0   0   0   0  ...    0     0      0      0   \n",
       "4    0   0    0   0   0   0   0   0   0   0  ...    0     0      0      0   \n",
       "\n",
       "   york  young  youth  youtube  yr  zealand  \n",
       "0     0      0      0        0   0        0  \n",
       "1     0      0      0        0   0        0  \n",
       "2     0      0      0        0   0        0  \n",
       "3     0      0      0        0   0        0  \n",
       "4     0      0      0        0   0        0  \n",
       "\n",
       "[5 rows x 1000 columns]"
      ]
     },
     "execution_count": 13,
     "metadata": {},
     "output_type": "execute_result"
    }
   ],
   "source": [
    "# dtm sparce to df\n",
    "# Get Word Counts for Each Document\n",
    "dtm = pd.DataFrame(dtm.todense(), columns=vect.get_feature_names())\n",
    "print(dtm.shape)\n",
    "dtm.head()"
   ]
  },
  {
   "cell_type": "code",
   "execution_count": 14,
   "metadata": {},
   "outputs": [
    {
     "data": {
      "text/html": [
       "<div>\n",
       "<style scoped>\n",
       "    .dataframe tbody tr th:only-of-type {\n",
       "        vertical-align: middle;\n",
       "    }\n",
       "\n",
       "    .dataframe tbody tr th {\n",
       "        vertical-align: top;\n",
       "    }\n",
       "\n",
       "    .dataframe thead th {\n",
       "        text-align: right;\n",
       "    }\n",
       "</style>\n",
       "<table border=\"1\" class=\"dataframe\">\n",
       "  <thead>\n",
       "    <tr style=\"text-align: right;\">\n",
       "      <th></th>\n",
       "      <th>000</th>\n",
       "      <th>10</th>\n",
       "      <th>100</th>\n",
       "      <th>11</th>\n",
       "      <th>12</th>\n",
       "      <th>13</th>\n",
       "      <th>14</th>\n",
       "      <th>15</th>\n",
       "      <th>16</th>\n",
       "      <th>17</th>\n",
       "      <th>...</th>\n",
       "      <th>wtf</th>\n",
       "      <th>year</th>\n",
       "      <th>years</th>\n",
       "      <th>yemen</th>\n",
       "      <th>york</th>\n",
       "      <th>young</th>\n",
       "      <th>youth</th>\n",
       "      <th>youtube</th>\n",
       "      <th>yr</th>\n",
       "      <th>zealand</th>\n",
       "    </tr>\n",
       "  </thead>\n",
       "  <tbody>\n",
       "    <tr>\n",
       "      <th>0</th>\n",
       "      <td>0</td>\n",
       "      <td>0</td>\n",
       "      <td>0</td>\n",
       "      <td>0</td>\n",
       "      <td>0</td>\n",
       "      <td>0</td>\n",
       "      <td>0</td>\n",
       "      <td>0</td>\n",
       "      <td>0</td>\n",
       "      <td>0</td>\n",
       "      <td>...</td>\n",
       "      <td>0</td>\n",
       "      <td>0</td>\n",
       "      <td>0</td>\n",
       "      <td>0</td>\n",
       "      <td>0</td>\n",
       "      <td>0</td>\n",
       "      <td>0</td>\n",
       "      <td>0</td>\n",
       "      <td>0</td>\n",
       "      <td>0</td>\n",
       "    </tr>\n",
       "    <tr>\n",
       "      <th>1</th>\n",
       "      <td>0</td>\n",
       "      <td>0</td>\n",
       "      <td>0</td>\n",
       "      <td>0</td>\n",
       "      <td>0</td>\n",
       "      <td>0</td>\n",
       "      <td>0</td>\n",
       "      <td>0</td>\n",
       "      <td>0</td>\n",
       "      <td>0</td>\n",
       "      <td>...</td>\n",
       "      <td>0</td>\n",
       "      <td>0</td>\n",
       "      <td>0</td>\n",
       "      <td>0</td>\n",
       "      <td>0</td>\n",
       "      <td>0</td>\n",
       "      <td>0</td>\n",
       "      <td>0</td>\n",
       "      <td>0</td>\n",
       "      <td>0</td>\n",
       "    </tr>\n",
       "    <tr>\n",
       "      <th>2</th>\n",
       "      <td>0</td>\n",
       "      <td>0</td>\n",
       "      <td>0</td>\n",
       "      <td>0</td>\n",
       "      <td>0</td>\n",
       "      <td>0</td>\n",
       "      <td>0</td>\n",
       "      <td>0</td>\n",
       "      <td>0</td>\n",
       "      <td>0</td>\n",
       "      <td>...</td>\n",
       "      <td>0</td>\n",
       "      <td>1</td>\n",
       "      <td>0</td>\n",
       "      <td>0</td>\n",
       "      <td>0</td>\n",
       "      <td>0</td>\n",
       "      <td>0</td>\n",
       "      <td>0</td>\n",
       "      <td>0</td>\n",
       "      <td>0</td>\n",
       "    </tr>\n",
       "    <tr>\n",
       "      <th>3</th>\n",
       "      <td>0</td>\n",
       "      <td>0</td>\n",
       "      <td>0</td>\n",
       "      <td>0</td>\n",
       "      <td>0</td>\n",
       "      <td>0</td>\n",
       "      <td>0</td>\n",
       "      <td>0</td>\n",
       "      <td>0</td>\n",
       "      <td>0</td>\n",
       "      <td>...</td>\n",
       "      <td>0</td>\n",
       "      <td>0</td>\n",
       "      <td>0</td>\n",
       "      <td>0</td>\n",
       "      <td>0</td>\n",
       "      <td>0</td>\n",
       "      <td>0</td>\n",
       "      <td>0</td>\n",
       "      <td>0</td>\n",
       "      <td>0</td>\n",
       "    </tr>\n",
       "    <tr>\n",
       "      <th>4</th>\n",
       "      <td>0</td>\n",
       "      <td>0</td>\n",
       "      <td>0</td>\n",
       "      <td>0</td>\n",
       "      <td>0</td>\n",
       "      <td>0</td>\n",
       "      <td>0</td>\n",
       "      <td>0</td>\n",
       "      <td>0</td>\n",
       "      <td>0</td>\n",
       "      <td>...</td>\n",
       "      <td>0</td>\n",
       "      <td>0</td>\n",
       "      <td>0</td>\n",
       "      <td>0</td>\n",
       "      <td>0</td>\n",
       "      <td>0</td>\n",
       "      <td>0</td>\n",
       "      <td>0</td>\n",
       "      <td>0</td>\n",
       "      <td>0</td>\n",
       "    </tr>\n",
       "  </tbody>\n",
       "</table>\n",
       "<p>5 rows × 1000 columns</p>\n",
       "</div>"
      ],
      "text/plain": [
       "   000  10  100  11  12  13  14  15  16  17  ...  wtf  year  years  yemen  \\\n",
       "0    0   0    0   0   0   0   0   0   0   0  ...    0     0      0      0   \n",
       "1    0   0    0   0   0   0   0   0   0   0  ...    0     0      0      0   \n",
       "2    0   0    0   0   0   0   0   0   0   0  ...    0     1      0      0   \n",
       "3    0   0    0   0   0   0   0   0   0   0  ...    0     0      0      0   \n",
       "4    0   0    0   0   0   0   0   0   0   0  ...    0     0      0      0   \n",
       "\n",
       "   york  young  youth  youtube  yr  zealand  \n",
       "0     0      0      0        0   0        0  \n",
       "1     0      0      0        0   0        0  \n",
       "2     0      0      0        0   0        0  \n",
       "3     0      0      0        0   0        0  \n",
       "4     0      0      0        0   0        0  \n",
       "\n",
       "[5 rows x 1000 columns]"
      ]
     },
     "execution_count": 14,
     "metadata": {},
     "output_type": "execute_result"
    }
   ],
   "source": [
    "dtm.head()"
   ]
  },
  {
   "cell_type": "code",
   "execution_count": 15,
   "metadata": {},
   "outputs": [
    {
     "data": {
      "text/plain": [
       "<AxesSubplot:>"
      ]
     },
     "execution_count": 15,
     "metadata": {},
     "output_type": "execute_result"
    },
    {
     "data": {
      "image/png": "[encoded data removed]",
      "text/plain": [
       "<Figure size 432x288 with 1 Axes>"
      ]
     },
     "metadata": {
      "needs_background": "light"
     },
     "output_type": "display_data"
    }
   ],
   "source": [
    "# Examine Distribution of Doc Lengths\n",
    "# AKA Distrubution of Headline Lengths\n",
    "doc_lengths = [len(doc) for doc in corpus['Top1']]\n",
    "pd.Series(doc_lengths).hist()"
   ]
  },
  {
   "cell_type": "markdown",
   "metadata": {},
   "source": [
    "### -> Think about it...\n",
    "#### Word counts are affected by document size.\n",
    "#### Enter -> TF-IDF"
   ]
  },
  {
   "cell_type": "markdown",
   "metadata": {},
   "source": [
    "# TF-IDF -> Term Frequency Inverse Documnet Frequency\n",
    "### Helps Control for Different Document Lengths in the Same Corpus\n",
    "Term Frequency = Percentage Words in Document for each word.\n",
    "\n",
    "Document Frequency = A penalty for the word existing in a high number of documents.\n",
    "\n",
    "The purpose of TF-IDF is to find what is unique to each document. It penalizes the term frequencies of words that are common across all documents which will allow for each document's most different topics to rise to the top."
   ]
  },
  {
   "cell_type": "markdown",
   "metadata": {},
   "source": [
    "### Document Term Matrix with TF-IDF"
   ]
  },
  {
   "cell_type": "code",
   "execution_count": 16,
   "metadata": {},
   "outputs": [
    {
     "name": "stdout",
     "output_type": "stream",
     "text": [
      "(1989, 2500)\n"
     ]
    },
    {
     "data": {
      "text/html": [
       "<div>\n",
       "<style scoped>\n",
       "    .dataframe tbody tr th:only-of-type {\n",
       "        vertical-align: middle;\n",
       "    }\n",
       "\n",
       "    .dataframe tbody tr th {\n",
       "        vertical-align: top;\n",
       "    }\n",
       "\n",
       "    .dataframe thead th {\n",
       "        text-align: right;\n",
       "    }\n",
       "</style>\n",
       "<table border=\"1\" class=\"dataframe\">\n",
       "  <thead>\n",
       "    <tr style=\"text-align: right;\">\n",
       "      <th></th>\n",
       "      <th>000</th>\n",
       "      <th>10</th>\n",
       "      <th>100</th>\n",
       "      <th>1000</th>\n",
       "      <th>11</th>\n",
       "      <th>12</th>\n",
       "      <th>120</th>\n",
       "      <th>13</th>\n",
       "      <th>14</th>\n",
       "      <th>15</th>\n",
       "      <th>...</th>\n",
       "      <th>yesterday</th>\n",
       "      <th>york</th>\n",
       "      <th>young</th>\n",
       "      <th>youngest</th>\n",
       "      <th>youth</th>\n",
       "      <th>youtube</th>\n",
       "      <th>yr</th>\n",
       "      <th>zealand</th>\n",
       "      <th>zero</th>\n",
       "      <th>zones</th>\n",
       "    </tr>\n",
       "  </thead>\n",
       "  <tbody>\n",
       "    <tr>\n",
       "      <th>0</th>\n",
       "      <td>0.0</td>\n",
       "      <td>0.0</td>\n",
       "      <td>0.0</td>\n",
       "      <td>0.0</td>\n",
       "      <td>0.0</td>\n",
       "      <td>0.0</td>\n",
       "      <td>0.0</td>\n",
       "      <td>0.0</td>\n",
       "      <td>0.0</td>\n",
       "      <td>0.0</td>\n",
       "      <td>...</td>\n",
       "      <td>0.0</td>\n",
       "      <td>0.0</td>\n",
       "      <td>0.0</td>\n",
       "      <td>0.0</td>\n",
       "      <td>0.0</td>\n",
       "      <td>0.0</td>\n",
       "      <td>0.0</td>\n",
       "      <td>0.0</td>\n",
       "      <td>0.0</td>\n",
       "      <td>0.0</td>\n",
       "    </tr>\n",
       "    <tr>\n",
       "      <th>1</th>\n",
       "      <td>0.0</td>\n",
       "      <td>0.0</td>\n",
       "      <td>0.0</td>\n",
       "      <td>0.0</td>\n",
       "      <td>0.0</td>\n",
       "      <td>0.0</td>\n",
       "      <td>0.0</td>\n",
       "      <td>0.0</td>\n",
       "      <td>0.0</td>\n",
       "      <td>0.0</td>\n",
       "      <td>...</td>\n",
       "      <td>0.0</td>\n",
       "      <td>0.0</td>\n",
       "      <td>0.0</td>\n",
       "      <td>0.0</td>\n",
       "      <td>0.0</td>\n",
       "      <td>0.0</td>\n",
       "      <td>0.0</td>\n",
       "      <td>0.0</td>\n",
       "      <td>0.0</td>\n",
       "      <td>0.0</td>\n",
       "    </tr>\n",
       "    <tr>\n",
       "      <th>2</th>\n",
       "      <td>0.0</td>\n",
       "      <td>0.0</td>\n",
       "      <td>0.0</td>\n",
       "      <td>0.0</td>\n",
       "      <td>0.0</td>\n",
       "      <td>0.0</td>\n",
       "      <td>0.0</td>\n",
       "      <td>0.0</td>\n",
       "      <td>0.0</td>\n",
       "      <td>0.0</td>\n",
       "      <td>...</td>\n",
       "      <td>0.0</td>\n",
       "      <td>0.0</td>\n",
       "      <td>0.0</td>\n",
       "      <td>0.0</td>\n",
       "      <td>0.0</td>\n",
       "      <td>0.0</td>\n",
       "      <td>0.0</td>\n",
       "      <td>0.0</td>\n",
       "      <td>0.0</td>\n",
       "      <td>0.0</td>\n",
       "    </tr>\n",
       "    <tr>\n",
       "      <th>3</th>\n",
       "      <td>0.0</td>\n",
       "      <td>0.0</td>\n",
       "      <td>0.0</td>\n",
       "      <td>0.0</td>\n",
       "      <td>0.0</td>\n",
       "      <td>0.0</td>\n",
       "      <td>0.0</td>\n",
       "      <td>0.0</td>\n",
       "      <td>0.0</td>\n",
       "      <td>0.0</td>\n",
       "      <td>...</td>\n",
       "      <td>0.0</td>\n",
       "      <td>0.0</td>\n",
       "      <td>0.0</td>\n",
       "      <td>0.0</td>\n",
       "      <td>0.0</td>\n",
       "      <td>0.0</td>\n",
       "      <td>0.0</td>\n",
       "      <td>0.0</td>\n",
       "      <td>0.0</td>\n",
       "      <td>0.0</td>\n",
       "    </tr>\n",
       "    <tr>\n",
       "      <th>4</th>\n",
       "      <td>0.0</td>\n",
       "      <td>0.0</td>\n",
       "      <td>0.0</td>\n",
       "      <td>0.0</td>\n",
       "      <td>0.0</td>\n",
       "      <td>0.0</td>\n",
       "      <td>0.0</td>\n",
       "      <td>0.0</td>\n",
       "      <td>0.0</td>\n",
       "      <td>0.0</td>\n",
       "      <td>...</td>\n",
       "      <td>0.0</td>\n",
       "      <td>0.0</td>\n",
       "      <td>0.0</td>\n",
       "      <td>0.0</td>\n",
       "      <td>0.0</td>\n",
       "      <td>0.0</td>\n",
       "      <td>0.0</td>\n",
       "      <td>0.0</td>\n",
       "      <td>0.0</td>\n",
       "      <td>0.0</td>\n",
       "    </tr>\n",
       "  </tbody>\n",
       "</table>\n",
       "<p>5 rows × 2500 columns</p>\n",
       "</div>"
      ],
      "text/plain": [
       "   000   10  100  1000   11   12  120   13   14   15  ...  yesterday  york  \\\n",
       "0  0.0  0.0  0.0   0.0  0.0  0.0  0.0  0.0  0.0  0.0  ...        0.0   0.0   \n",
       "1  0.0  0.0  0.0   0.0  0.0  0.0  0.0  0.0  0.0  0.0  ...        0.0   0.0   \n",
       "2  0.0  0.0  0.0   0.0  0.0  0.0  0.0  0.0  0.0  0.0  ...        0.0   0.0   \n",
       "3  0.0  0.0  0.0   0.0  0.0  0.0  0.0  0.0  0.0  0.0  ...        0.0   0.0   \n",
       "4  0.0  0.0  0.0   0.0  0.0  0.0  0.0  0.0  0.0  0.0  ...        0.0   0.0   \n",
       "\n",
       "   young  youngest  youth  youtube   yr  zealand  zero  zones  \n",
       "0    0.0       0.0    0.0      0.0  0.0      0.0   0.0    0.0  \n",
       "1    0.0       0.0    0.0      0.0  0.0      0.0   0.0    0.0  \n",
       "2    0.0       0.0    0.0      0.0  0.0      0.0   0.0    0.0  \n",
       "3    0.0       0.0    0.0      0.0  0.0      0.0   0.0    0.0  \n",
       "4    0.0       0.0    0.0      0.0  0.0      0.0   0.0    0.0  \n",
       "\n",
       "[5 rows x 2500 columns]"
      ]
     },
     "execution_count": 16,
     "metadata": {},
     "output_type": "execute_result"
    }
   ],
   "source": [
    "from sklearn.feature_extraction.text import TfidfVectorizer\n",
    "\n",
    "# ?-- What percentage of overall corpus size \n",
    "# sould max_features be? --?\n",
    "\n",
    "# Instantiate Vectorizer Object\n",
    "tfidf = TfidfVectorizer(stop_words='english', max_features=2500)\n",
    "\n",
    "# Create a vocabulary and get word counts per document.\n",
    "# Similar to fit_predict\n",
    "dtm = tfidf.fit_transform(corpus['Top1'])\n",
    "\n",
    "# Print Word Counts\n",
    "\n",
    "# Get feature names to use as dataframe column headers.\n",
    "dtm = pd.DataFrame(dtm.todense(), columns=tfidf.get_feature_names())\n",
    "\n",
    "# View Feature Matrix as DataFrame\n",
    "print(dtm.shape)\n",
    "dtm.head()"
   ]
  },
  {
   "cell_type": "markdown",
   "metadata": {},
   "source": [
    "### We want to trim down our DTM by reducing noise while improving signal.\n",
    "#### We will use spaCy tokenization, stop-words, n-grams, and statistical trimming to help us refine the results of our dtm."
   ]
  },
  {
   "cell_type": "code",
   "execution_count": 17,
   "metadata": {},
   "outputs": [],
   "source": [
    "def tokenize(document):\n",
    "    # Return Lemmas\n",
    "    doc = nlp(document)\n",
    "    return [token.lemma_.strip() for token in doc if (token.is_stop != True) and (token.is_punct != True)]"
   ]
  },
  {
   "cell_type": "code",
   "execution_count": 18,
   "metadata": {},
   "outputs": [
    {
     "name": "stdout",
     "output_type": "stream",
     "text": [
      "1989\n"
     ]
    }
   ],
   "source": [
    "# n-grams = multi-word phrases\n",
    "# bi-gram = 2 words\n",
    "# tri-gram = 3 words\n",
    "# sklearn will search through all the valid combinations of words\n",
    "# and return all those possible phrases as they appear in text....\n",
    "# This results in WAYYY more words in a vocabulary as you have all the words\n",
    "# singular ANDDD the words as combinations SO...\n",
    "# When specifying ngram_range -> ALWAYS limit the features!\n",
    "print(len(corpus['Top1']))"
   ]
  },
  {
   "cell_type": "code",
   "execution_count": 19,
   "metadata": {},
   "outputs": [
    {
     "name": "stdout",
     "output_type": "stream",
     "text": [
      "(1989, 1534)\n"
     ]
    },
    {
     "data": {
      "text/html": [
       "<div>\n",
       "<style scoped>\n",
       "    .dataframe tbody tr th:only-of-type {\n",
       "        vertical-align: middle;\n",
       "    }\n",
       "\n",
       "    .dataframe tbody tr th {\n",
       "        vertical-align: top;\n",
       "    }\n",
       "\n",
       "    .dataframe thead th {\n",
       "        text-align: right;\n",
       "    }\n",
       "</style>\n",
       "<table border=\"1\" class=\"dataframe\">\n",
       "  <thead>\n",
       "    <tr style=\"text-align: right;\">\n",
       "      <th></th>\n",
       "      <th>$</th>\n",
       "      <th>$ 100</th>\n",
       "      <th>+</th>\n",
       "      <th>1</th>\n",
       "      <th>1.8</th>\n",
       "      <th>10</th>\n",
       "      <th>10 year</th>\n",
       "      <th>10,000</th>\n",
       "      <th>100</th>\n",
       "      <th>100,000</th>\n",
       "      <th>...</th>\n",
       "      <th>year prison</th>\n",
       "      <th>yemen</th>\n",
       "      <th>york</th>\n",
       "      <th>young</th>\n",
       "      <th>youth</th>\n",
       "      <th>youtube</th>\n",
       "      <th>zealand</th>\n",
       "      <th>zone</th>\n",
       "      <th>|</th>\n",
       "      <th>| world</th>\n",
       "    </tr>\n",
       "  </thead>\n",
       "  <tbody>\n",
       "    <tr>\n",
       "      <th>0</th>\n",
       "      <td>0.0</td>\n",
       "      <td>0.0</td>\n",
       "      <td>0.0</td>\n",
       "      <td>0.0</td>\n",
       "      <td>0.0</td>\n",
       "      <td>0.0</td>\n",
       "      <td>0.0</td>\n",
       "      <td>0.0</td>\n",
       "      <td>0.0</td>\n",
       "      <td>0.0</td>\n",
       "      <td>...</td>\n",
       "      <td>0.0</td>\n",
       "      <td>0.0</td>\n",
       "      <td>0.0</td>\n",
       "      <td>0.0</td>\n",
       "      <td>0.0</td>\n",
       "      <td>0.0</td>\n",
       "      <td>0.0</td>\n",
       "      <td>0.0</td>\n",
       "      <td>0.0</td>\n",
       "      <td>0.0</td>\n",
       "    </tr>\n",
       "    <tr>\n",
       "      <th>1</th>\n",
       "      <td>0.0</td>\n",
       "      <td>0.0</td>\n",
       "      <td>0.0</td>\n",
       "      <td>0.0</td>\n",
       "      <td>0.0</td>\n",
       "      <td>0.0</td>\n",
       "      <td>0.0</td>\n",
       "      <td>0.0</td>\n",
       "      <td>0.0</td>\n",
       "      <td>0.0</td>\n",
       "      <td>...</td>\n",
       "      <td>0.0</td>\n",
       "      <td>0.0</td>\n",
       "      <td>0.0</td>\n",
       "      <td>0.0</td>\n",
       "      <td>0.0</td>\n",
       "      <td>0.0</td>\n",
       "      <td>0.0</td>\n",
       "      <td>0.0</td>\n",
       "      <td>0.0</td>\n",
       "      <td>0.0</td>\n",
       "    </tr>\n",
       "    <tr>\n",
       "      <th>2</th>\n",
       "      <td>0.0</td>\n",
       "      <td>0.0</td>\n",
       "      <td>0.0</td>\n",
       "      <td>0.0</td>\n",
       "      <td>0.0</td>\n",
       "      <td>0.0</td>\n",
       "      <td>0.0</td>\n",
       "      <td>0.0</td>\n",
       "      <td>0.0</td>\n",
       "      <td>0.0</td>\n",
       "      <td>...</td>\n",
       "      <td>0.0</td>\n",
       "      <td>0.0</td>\n",
       "      <td>0.0</td>\n",
       "      <td>0.0</td>\n",
       "      <td>0.0</td>\n",
       "      <td>0.0</td>\n",
       "      <td>0.0</td>\n",
       "      <td>0.0</td>\n",
       "      <td>0.0</td>\n",
       "      <td>0.0</td>\n",
       "    </tr>\n",
       "    <tr>\n",
       "      <th>3</th>\n",
       "      <td>0.0</td>\n",
       "      <td>0.0</td>\n",
       "      <td>0.0</td>\n",
       "      <td>0.0</td>\n",
       "      <td>0.0</td>\n",
       "      <td>0.0</td>\n",
       "      <td>0.0</td>\n",
       "      <td>0.0</td>\n",
       "      <td>0.0</td>\n",
       "      <td>0.0</td>\n",
       "      <td>...</td>\n",
       "      <td>0.0</td>\n",
       "      <td>0.0</td>\n",
       "      <td>0.0</td>\n",
       "      <td>0.0</td>\n",
       "      <td>0.0</td>\n",
       "      <td>0.0</td>\n",
       "      <td>0.0</td>\n",
       "      <td>0.0</td>\n",
       "      <td>0.0</td>\n",
       "      <td>0.0</td>\n",
       "    </tr>\n",
       "    <tr>\n",
       "      <th>4</th>\n",
       "      <td>0.0</td>\n",
       "      <td>0.0</td>\n",
       "      <td>0.0</td>\n",
       "      <td>0.0</td>\n",
       "      <td>0.0</td>\n",
       "      <td>0.0</td>\n",
       "      <td>0.0</td>\n",
       "      <td>0.0</td>\n",
       "      <td>0.0</td>\n",
       "      <td>0.0</td>\n",
       "      <td>...</td>\n",
       "      <td>0.0</td>\n",
       "      <td>0.0</td>\n",
       "      <td>0.0</td>\n",
       "      <td>0.0</td>\n",
       "      <td>0.0</td>\n",
       "      <td>0.0</td>\n",
       "      <td>0.0</td>\n",
       "      <td>0.0</td>\n",
       "      <td>0.0</td>\n",
       "      <td>0.0</td>\n",
       "    </tr>\n",
       "  </tbody>\n",
       "</table>\n",
       "<p>5 rows × 1534 columns</p>\n",
       "</div>"
      ],
      "text/plain": [
       "     $  $ 100    +    1  1.8   10  10 year  10,000  100  100,000  ...  \\\n",
       "0  0.0    0.0  0.0  0.0  0.0  0.0      0.0     0.0  0.0      0.0  ...   \n",
       "1  0.0    0.0  0.0  0.0  0.0  0.0      0.0     0.0  0.0      0.0  ...   \n",
       "2  0.0    0.0  0.0  0.0  0.0  0.0      0.0     0.0  0.0      0.0  ...   \n",
       "3  0.0    0.0  0.0  0.0  0.0  0.0      0.0     0.0  0.0      0.0  ...   \n",
       "4  0.0    0.0  0.0  0.0  0.0  0.0      0.0     0.0  0.0      0.0  ...   \n",
       "\n",
       "   year prison  yemen  york  young  youth  youtube  zealand  zone    |  \\\n",
       "0          0.0    0.0   0.0    0.0    0.0      0.0      0.0   0.0  0.0   \n",
       "1          0.0    0.0   0.0    0.0    0.0      0.0      0.0   0.0  0.0   \n",
       "2          0.0    0.0   0.0    0.0    0.0      0.0      0.0   0.0  0.0   \n",
       "3          0.0    0.0   0.0    0.0    0.0      0.0      0.0   0.0  0.0   \n",
       "4          0.0    0.0   0.0    0.0    0.0      0.0      0.0   0.0  0.0   \n",
       "\n",
       "   | world  \n",
       "0      0.0  \n",
       "1      0.0  \n",
       "2      0.0  \n",
       "3      0.0  \n",
       "4      0.0  \n",
       "\n",
       "[5 rows x 1534 columns]"
      ]
     },
     "execution_count": 19,
     "metadata": {},
     "output_type": "execute_result"
    }
   ],
   "source": [
    "# NOTE\n",
    "# Tunning Parameters\n",
    "\n",
    "# Instantiate Vectorizor Object\n",
    "tfidf = TfidfVectorizer(stop_words='english',\n",
    "                       ngram_range=(1, 2),\n",
    "                # Term or N-Gram Must Appear in no more than 97 docs.\n",
    "                       max_df=97,\n",
    "                # Term or N-Gram Must Appear in at least 3 Docs\n",
    "                       min_df=4,\n",
    "                       max_features=2000,\n",
    "                # spaCy Tokenization from Func above\n",
    "                       tokenizer=tokenize)\n",
    "\n",
    "# Create a Vocabulary and Get Word Counts per Document\n",
    "dtm = tfidf.fit_transform(corpus['Top1']) # Similar to Fit-Predict\n",
    "\n",
    "# Print Word Counts\n",
    "\n",
    "# Get Feature Names to Use ad DF Column Headers\n",
    "dtm = pd.DataFrame(dtm.todense(), columns=tfidf.get_feature_names())\n",
    "\n",
    "# View Feature Matrix as DataFrame\n",
    "print(dtm.shape)\n",
    "dtm.head()"
   ]
  },
  {
   "cell_type": "markdown",
   "metadata": {},
   "source": [
    "### Cosine Similarity"
   ]
  },
  {
   "cell_type": "code",
   "execution_count": 20,
   "metadata": {},
   "outputs": [],
   "source": [
    "# Calculate Distance of TF-IDF Vectors\n",
    "# cosine similarity == the idea of measuring the Euclidian (straight-line)\n",
    "# distance between two points and normalizing this\n",
    "# cosine similarity == normalization of euclidean distance\n",
    "\n",
    "from sklearn.metrics.pairwise import cosine_similarity\n",
    "\n",
    "# We are finding the distance between each document's TF-IDF vector\n",
    "dist_matrix = cosine_similarity(dtm)\n",
    "\n"
   ]
  },
  {
   "cell_type": "code",
   "execution_count": 21,
   "metadata": {},
   "outputs": [
    {
     "data": {
      "text/plain": [
       "'Georgia \\'downs two Russian warplanes\\' as countries move to brink of war\"'"
      ]
     },
     "execution_count": 21,
     "metadata": {},
     "output_type": "execute_result"
    }
   ],
   "source": [
    "# Let's find a headline similar to the first row of Top1.\n",
    "corpus['Top1'][0]"
   ]
  },
  {
   "cell_type": "code",
   "execution_count": 22,
   "metadata": {},
   "outputs": [
    {
     "name": "stdout",
     "output_type": "stream",
     "text": [
      "(1989, 1989)\n"
     ]
    },
    {
     "data": {
      "text/html": [
       "<div>\n",
       "<style scoped>\n",
       "    .dataframe tbody tr th:only-of-type {\n",
       "        vertical-align: middle;\n",
       "    }\n",
       "\n",
       "    .dataframe tbody tr th {\n",
       "        vertical-align: top;\n",
       "    }\n",
       "\n",
       "    .dataframe thead th {\n",
       "        text-align: right;\n",
       "    }\n",
       "</style>\n",
       "<table border=\"1\" class=\"dataframe\">\n",
       "  <thead>\n",
       "    <tr style=\"text-align: right;\">\n",
       "      <th></th>\n",
       "      <th>0</th>\n",
       "      <th>1</th>\n",
       "      <th>2</th>\n",
       "      <th>3</th>\n",
       "      <th>4</th>\n",
       "      <th>5</th>\n",
       "      <th>6</th>\n",
       "      <th>7</th>\n",
       "      <th>8</th>\n",
       "      <th>9</th>\n",
       "      <th>...</th>\n",
       "      <th>1979</th>\n",
       "      <th>1980</th>\n",
       "      <th>1981</th>\n",
       "      <th>1982</th>\n",
       "      <th>1983</th>\n",
       "      <th>1984</th>\n",
       "      <th>1985</th>\n",
       "      <th>1986</th>\n",
       "      <th>1987</th>\n",
       "      <th>1988</th>\n",
       "    </tr>\n",
       "  </thead>\n",
       "  <tbody>\n",
       "    <tr>\n",
       "      <th>0</th>\n",
       "      <td>1.0</td>\n",
       "      <td>0.0</td>\n",
       "      <td>0.0</td>\n",
       "      <td>0.0</td>\n",
       "      <td>0.0</td>\n",
       "      <td>0.000000</td>\n",
       "      <td>0.0</td>\n",
       "      <td>0.0</td>\n",
       "      <td>0.0</td>\n",
       "      <td>0.0</td>\n",
       "      <td>...</td>\n",
       "      <td>0.0</td>\n",
       "      <td>0.0</td>\n",
       "      <td>0.0</td>\n",
       "      <td>0.0</td>\n",
       "      <td>0.0</td>\n",
       "      <td>0.0</td>\n",
       "      <td>0.0</td>\n",
       "      <td>0.0</td>\n",
       "      <td>0.000000</td>\n",
       "      <td>0.000000</td>\n",
       "    </tr>\n",
       "    <tr>\n",
       "      <th>1</th>\n",
       "      <td>0.0</td>\n",
       "      <td>1.0</td>\n",
       "      <td>0.0</td>\n",
       "      <td>0.0</td>\n",
       "      <td>0.0</td>\n",
       "      <td>0.000000</td>\n",
       "      <td>0.0</td>\n",
       "      <td>0.0</td>\n",
       "      <td>0.0</td>\n",
       "      <td>0.0</td>\n",
       "      <td>...</td>\n",
       "      <td>0.0</td>\n",
       "      <td>0.0</td>\n",
       "      <td>0.0</td>\n",
       "      <td>0.0</td>\n",
       "      <td>0.0</td>\n",
       "      <td>0.0</td>\n",
       "      <td>0.0</td>\n",
       "      <td>0.0</td>\n",
       "      <td>0.000000</td>\n",
       "      <td>0.000000</td>\n",
       "    </tr>\n",
       "    <tr>\n",
       "      <th>2</th>\n",
       "      <td>0.0</td>\n",
       "      <td>0.0</td>\n",
       "      <td>1.0</td>\n",
       "      <td>0.0</td>\n",
       "      <td>0.0</td>\n",
       "      <td>0.184994</td>\n",
       "      <td>0.0</td>\n",
       "      <td>0.0</td>\n",
       "      <td>0.0</td>\n",
       "      <td>0.0</td>\n",
       "      <td>...</td>\n",
       "      <td>0.0</td>\n",
       "      <td>0.0</td>\n",
       "      <td>0.0</td>\n",
       "      <td>0.0</td>\n",
       "      <td>0.0</td>\n",
       "      <td>0.0</td>\n",
       "      <td>0.0</td>\n",
       "      <td>0.0</td>\n",
       "      <td>0.000000</td>\n",
       "      <td>0.126537</td>\n",
       "    </tr>\n",
       "    <tr>\n",
       "      <th>3</th>\n",
       "      <td>0.0</td>\n",
       "      <td>0.0</td>\n",
       "      <td>0.0</td>\n",
       "      <td>1.0</td>\n",
       "      <td>0.0</td>\n",
       "      <td>0.000000</td>\n",
       "      <td>0.0</td>\n",
       "      <td>0.0</td>\n",
       "      <td>0.0</td>\n",
       "      <td>0.0</td>\n",
       "      <td>...</td>\n",
       "      <td>0.0</td>\n",
       "      <td>0.0</td>\n",
       "      <td>0.0</td>\n",
       "      <td>0.0</td>\n",
       "      <td>0.0</td>\n",
       "      <td>0.0</td>\n",
       "      <td>0.0</td>\n",
       "      <td>0.0</td>\n",
       "      <td>0.000000</td>\n",
       "      <td>0.000000</td>\n",
       "    </tr>\n",
       "    <tr>\n",
       "      <th>4</th>\n",
       "      <td>0.0</td>\n",
       "      <td>0.0</td>\n",
       "      <td>0.0</td>\n",
       "      <td>0.0</td>\n",
       "      <td>1.0</td>\n",
       "      <td>0.000000</td>\n",
       "      <td>0.0</td>\n",
       "      <td>0.0</td>\n",
       "      <td>0.0</td>\n",
       "      <td>0.0</td>\n",
       "      <td>...</td>\n",
       "      <td>0.0</td>\n",
       "      <td>0.0</td>\n",
       "      <td>0.0</td>\n",
       "      <td>0.0</td>\n",
       "      <td>0.0</td>\n",
       "      <td>0.0</td>\n",
       "      <td>0.0</td>\n",
       "      <td>0.0</td>\n",
       "      <td>0.071614</td>\n",
       "      <td>0.000000</td>\n",
       "    </tr>\n",
       "  </tbody>\n",
       "</table>\n",
       "<p>5 rows × 1989 columns</p>\n",
       "</div>"
      ],
      "text/plain": [
       "   0     1     2     3     4         5     6     7     8     9     ...  1979  \\\n",
       "0   1.0   0.0   0.0   0.0   0.0  0.000000   0.0   0.0   0.0   0.0  ...   0.0   \n",
       "1   0.0   1.0   0.0   0.0   0.0  0.000000   0.0   0.0   0.0   0.0  ...   0.0   \n",
       "2   0.0   0.0   1.0   0.0   0.0  0.184994   0.0   0.0   0.0   0.0  ...   0.0   \n",
       "3   0.0   0.0   0.0   1.0   0.0  0.000000   0.0   0.0   0.0   0.0  ...   0.0   \n",
       "4   0.0   0.0   0.0   0.0   1.0  0.000000   0.0   0.0   0.0   0.0  ...   0.0   \n",
       "\n",
       "   1980  1981  1982  1983  1984  1985  1986      1987      1988  \n",
       "0   0.0   0.0   0.0   0.0   0.0   0.0   0.0  0.000000  0.000000  \n",
       "1   0.0   0.0   0.0   0.0   0.0   0.0   0.0  0.000000  0.000000  \n",
       "2   0.0   0.0   0.0   0.0   0.0   0.0   0.0  0.000000  0.126537  \n",
       "3   0.0   0.0   0.0   0.0   0.0   0.0   0.0  0.000000  0.000000  \n",
       "4   0.0   0.0   0.0   0.0   0.0   0.0   0.0  0.071614  0.000000  \n",
       "\n",
       "[5 rows x 1989 columns]"
      ]
     },
     "execution_count": 22,
     "metadata": {},
     "output_type": "execute_result"
    }
   ],
   "source": [
    "# Turn the Dist Matrix into a Dataframe\n",
    "dist = pd.DataFrame(dist_matrix)\n",
    "\n",
    "# Similarity Accross DF\n",
    "print(dist.shape)\n",
    "dist.head()"
   ]
  },
  {
   "cell_type": "code",
   "execution_count": 23,
   "metadata": {},
   "outputs": [
    {
     "data": {
      "text/plain": [
       "0     1.000000\n",
       "1     0.000000\n",
       "2     0.000000\n",
       "3     0.000000\n",
       "4     0.000000\n",
       "5     0.000000\n",
       "6     0.000000\n",
       "7     0.000000\n",
       "8     0.000000\n",
       "9     0.000000\n",
       "10    0.111051\n",
       "11    0.000000\n",
       "12    0.000000\n",
       "13    0.000000\n",
       "14    0.494323\n",
       "Name: 0, dtype: float64"
      ]
     },
     "execution_count": 23,
     "metadata": {},
     "output_type": "execute_result"
    }
   ],
   "source": [
    "# Each row in the similarity of one document to all other documents.\n",
    "dist[0][0:15]"
   ]
  },
  {
   "cell_type": "code",
   "execution_count": 58,
   "metadata": {},
   "outputs": [
    {
     "data": {
      "text/plain": [
       "848"
      ]
     },
     "execution_count": 58,
     "metadata": {},
     "output_type": "execute_result"
    }
   ],
   "source": [
    "# Reccomendation Engine\n",
    "\n",
    "# Find all rows that are not 1 (aka, identical to headline)\n",
    "# Orderthem by most similar.\n",
    "dist[dist[11] < 1][11].sort_values(ascending=False).index[0]"
   ]
  },
  {
   "cell_type": "code",
   "execution_count": 54,
   "metadata": {},
   "outputs": [
    {
     "name": "stdout",
     "output_type": "stream",
     "text": [
      "N Korea's Kim died in 2003; replaced by lookalike, says Waseda professor\"\n",
      " \n",
      "North Korea Leader Kim-Jong Il has died\n"
     ]
    }
   ],
   "source": [
    "# We can see the similarity.\n",
    "print(corpus['Top1'][11])\n",
    "print(' ')\n",
    "print(corpus['Top1'][848])"
   ]
  },
  {
   "cell_type": "code",
   "execution_count": 59,
   "metadata": {},
   "outputs": [],
   "source": [
    "def find_top_similarity(index_value):\n",
    "    print(corpus['Top1'][index_value])\n",
    "    # Find all rows that are not 1 (aka, identical to headline)\n",
    "    # Orderthem by most similar -> Get Top One\n",
    "    similar = dist[dist[index_value] < 1]\\\n",
    "              [index_value].sort_values(ascending=False).index[0]\n",
    "    print('\\n')\n",
    "    print(corpus['Top1'][similar])"
   ]
  },
  {
   "cell_type": "code",
   "execution_count": 61,
   "metadata": {},
   "outputs": [
    {
     "name": "stdout",
     "output_type": "stream",
     "text": [
      "'A French judge has ordered two branches of Scientologists and their leaders to stand trial for fraud '\n",
      "\n",
      "\n",
      "Airliner crashes in French Alps\n"
     ]
    }
   ],
   "source": [
    "find_top_similarity(20)"
   ]
  },
  {
   "cell_type": "markdown",
   "metadata": {},
   "source": [
    "#### Cosine Similarity is too computationally expensive to work in the majority of situations\n",
    "\n",
    "Besides cosine similarity euclidian distance there are 2 main ways to store similarity:\n",
    "\n",
    "- KD Trees\n",
    "- Ball Trees\n",
    "\n",
    "These are alternatives to storing the distance between every combination of vectors."
   ]
  },
  {
   "cell_type": "code",
   "execution_count": 26,
   "metadata": {},
   "outputs": [
    {
     "name": "stdout",
     "output_type": "stream",
     "text": [
      "(1989, 1534)\n"
     ]
    },
    {
     "data": {
      "text/html": [
       "<div>\n",
       "<style scoped>\n",
       "    .dataframe tbody tr th:only-of-type {\n",
       "        vertical-align: middle;\n",
       "    }\n",
       "\n",
       "    .dataframe tbody tr th {\n",
       "        vertical-align: top;\n",
       "    }\n",
       "\n",
       "    .dataframe thead th {\n",
       "        text-align: right;\n",
       "    }\n",
       "</style>\n",
       "<table border=\"1\" class=\"dataframe\">\n",
       "  <thead>\n",
       "    <tr style=\"text-align: right;\">\n",
       "      <th></th>\n",
       "      <th>$</th>\n",
       "      <th>$ 100</th>\n",
       "      <th>+</th>\n",
       "      <th>1</th>\n",
       "      <th>1.8</th>\n",
       "      <th>10</th>\n",
       "      <th>10 year</th>\n",
       "      <th>10,000</th>\n",
       "      <th>100</th>\n",
       "      <th>100,000</th>\n",
       "      <th>...</th>\n",
       "      <th>year prison</th>\n",
       "      <th>yemen</th>\n",
       "      <th>york</th>\n",
       "      <th>young</th>\n",
       "      <th>youth</th>\n",
       "      <th>youtube</th>\n",
       "      <th>zealand</th>\n",
       "      <th>zone</th>\n",
       "      <th>|</th>\n",
       "      <th>| world</th>\n",
       "    </tr>\n",
       "  </thead>\n",
       "  <tbody>\n",
       "    <tr>\n",
       "      <th>0</th>\n",
       "      <td>0.0</td>\n",
       "      <td>0.0</td>\n",
       "      <td>0.0</td>\n",
       "      <td>0.0</td>\n",
       "      <td>0.0</td>\n",
       "      <td>0.0</td>\n",
       "      <td>0.0</td>\n",
       "      <td>0.0</td>\n",
       "      <td>0.0</td>\n",
       "      <td>0.0</td>\n",
       "      <td>...</td>\n",
       "      <td>0.0</td>\n",
       "      <td>0.0</td>\n",
       "      <td>0.0</td>\n",
       "      <td>0.0</td>\n",
       "      <td>0.0</td>\n",
       "      <td>0.0</td>\n",
       "      <td>0.0</td>\n",
       "      <td>0.0</td>\n",
       "      <td>0.0</td>\n",
       "      <td>0.0</td>\n",
       "    </tr>\n",
       "    <tr>\n",
       "      <th>1</th>\n",
       "      <td>0.0</td>\n",
       "      <td>0.0</td>\n",
       "      <td>0.0</td>\n",
       "      <td>0.0</td>\n",
       "      <td>0.0</td>\n",
       "      <td>0.0</td>\n",
       "      <td>0.0</td>\n",
       "      <td>0.0</td>\n",
       "      <td>0.0</td>\n",
       "      <td>0.0</td>\n",
       "      <td>...</td>\n",
       "      <td>0.0</td>\n",
       "      <td>0.0</td>\n",
       "      <td>0.0</td>\n",
       "      <td>0.0</td>\n",
       "      <td>0.0</td>\n",
       "      <td>0.0</td>\n",
       "      <td>0.0</td>\n",
       "      <td>0.0</td>\n",
       "      <td>0.0</td>\n",
       "      <td>0.0</td>\n",
       "    </tr>\n",
       "    <tr>\n",
       "      <th>2</th>\n",
       "      <td>0.0</td>\n",
       "      <td>0.0</td>\n",
       "      <td>0.0</td>\n",
       "      <td>0.0</td>\n",
       "      <td>0.0</td>\n",
       "      <td>0.0</td>\n",
       "      <td>0.0</td>\n",
       "      <td>0.0</td>\n",
       "      <td>0.0</td>\n",
       "      <td>0.0</td>\n",
       "      <td>...</td>\n",
       "      <td>0.0</td>\n",
       "      <td>0.0</td>\n",
       "      <td>0.0</td>\n",
       "      <td>0.0</td>\n",
       "      <td>0.0</td>\n",
       "      <td>0.0</td>\n",
       "      <td>0.0</td>\n",
       "      <td>0.0</td>\n",
       "      <td>0.0</td>\n",
       "      <td>0.0</td>\n",
       "    </tr>\n",
       "  </tbody>\n",
       "</table>\n",
       "<p>3 rows × 1534 columns</p>\n",
       "</div>"
      ],
      "text/plain": [
       "     $  $ 100    +    1  1.8   10  10 year  10,000  100  100,000  ...  \\\n",
       "0  0.0    0.0  0.0  0.0  0.0  0.0      0.0     0.0  0.0      0.0  ...   \n",
       "1  0.0    0.0  0.0  0.0  0.0  0.0      0.0     0.0  0.0      0.0  ...   \n",
       "2  0.0    0.0  0.0  0.0  0.0  0.0      0.0     0.0  0.0      0.0  ...   \n",
       "\n",
       "   year prison  yemen  york  young  youth  youtube  zealand  zone    |  \\\n",
       "0          0.0    0.0   0.0    0.0    0.0      0.0      0.0   0.0  0.0   \n",
       "1          0.0    0.0   0.0    0.0    0.0      0.0      0.0   0.0  0.0   \n",
       "2          0.0    0.0   0.0    0.0    0.0      0.0      0.0   0.0  0.0   \n",
       "\n",
       "   | world  \n",
       "0      0.0  \n",
       "1      0.0  \n",
       "2      0.0  \n",
       "\n",
       "[3 rows x 1534 columns]"
      ]
     },
     "execution_count": 26,
     "metadata": {},
     "output_type": "execute_result"
    }
   ],
   "source": [
    "# Document Term Matrix with TF-IDF as Values\n",
    "print(dtm.shape)\n",
    "dtm.head(3)"
   ]
  },
  {
   "cell_type": "code",
   "execution_count": 27,
   "metadata": {},
   "outputs": [
    {
     "data": {
      "text/plain": [
       "NearestNeighbors(algorithm='kd_tree')"
      ]
     },
     "execution_count": 27,
     "metadata": {},
     "output_type": "execute_result"
    }
   ],
   "source": [
    "from sklearn.neighbors import NearestNeighbors\n",
    "\n",
    "# Fit on DTM\n",
    "# Specify we want 5 neighbors per doc\n",
    "nn = NearestNeighbors(n_neighbors=5, algorithm='kd_tree')\n",
    "nn.fit(dtm)"
   ]
  },
  {
   "cell_type": "code",
   "execution_count": 28,
   "metadata": {},
   "outputs": [
    {
     "data": {
      "text/plain": [
       "$          0.0\n",
       "$ 100      0.0\n",
       "+          0.0\n",
       "1          0.0\n",
       "1.8        0.0\n",
       "          ... \n",
       "youtube    0.0\n",
       "zealand    0.0\n",
       "zone       0.0\n",
       "|          0.0\n",
       "| world    0.0\n",
       "Name: 0, Length: 1534, dtype: float64"
      ]
     },
     "execution_count": 28,
     "metadata": {},
     "output_type": "execute_result"
    }
   ],
   "source": [
    "dtm.iloc[0]"
   ]
  },
  {
   "cell_type": "code",
   "execution_count": 29,
   "metadata": {},
   "outputs": [
    {
     "data": {
      "text/plain": [
       "(array([[0., 1., 1., 1., 1.]]), array([[  0, 606, 152, 205, 385]]))"
      ]
     },
     "execution_count": 29,
     "metadata": {},
     "output_type": "execute_result"
    }
   ],
   "source": [
    "# We pass our model a doc vector to get the model to point us to it's \n",
    "# K- Nearest Neighbors\n",
    "nn.kneighbors([dtm.iloc[0]])"
   ]
  },
  {
   "cell_type": "code",
   "execution_count": 30,
   "metadata": {},
   "outputs": [
    {
     "data": {
      "text/plain": [
       "(array([[0., 1., 1., 1., 1.]]), array([[ 14, 606, 152, 205, 385]]))"
      ]
     },
     "execution_count": 30,
     "metadata": {},
     "output_type": "execute_result"
    }
   ],
   "source": [
    "# Query Using Kneighbors\n",
    "nn.kneighbors([dtm.iloc[14]])"
   ]
  },
  {
   "cell_type": "code",
   "execution_count": 31,
   "metadata": {},
   "outputs": [
    {
     "data": {
      "text/plain": [
       "'Military help for Georgia is a \\'declaration of war\\', says Moscow\"'"
      ]
     },
     "execution_count": 31,
     "metadata": {},
     "output_type": "execute_result"
    }
   ],
   "source": [
    "corpus['Top1'][14]"
   ]
  },
  {
   "cell_type": "code",
   "execution_count": 32,
   "metadata": {},
   "outputs": [
    {
     "name": "stdout",
     "output_type": "stream",
     "text": [
      "Military help for Georgia is a 'declaration of war', says Moscow\"\n",
      " \n",
      "Punjab(Pakistan) governor Salman Taseer assassinated in Islamabad\n",
      " \n",
      "'What a surprise...'\n"
     ]
    }
   ],
   "source": [
    "# Looks Like Euclidean distance was more effective...\n",
    "print(corpus['Top1'][14])\n",
    "print(' ')\n",
    "print(corpus['Top1'][606])\n",
    "print(' ')\n",
    "print(corpus['Top1'][385])"
   ]
  },
  {
   "cell_type": "code",
   "execution_count": 33,
   "metadata": {},
   "outputs": [
    {
     "name": "stdout",
     "output_type": "stream",
     "text": [
      "Random Integer 1982 \n",
      "\n",
      "(array([[0., 1., 1., 1., 1.]]), array([[1982, 1472,  606,  152,  205]])) \n",
      "\n",
      "Today The United Kingdom decides whether to remain in the European Union, or leave \n",
      "\n",
      "Michael Schumacher out of Coma \n",
      "\n",
      "Punjab(Pakistan) governor Salman Taseer assassinated in Islamabad\n"
     ]
    }
   ],
   "source": [
    "# Let's try again with a random number:\n",
    "from numpy import random\n",
    "\n",
    "randint = random.randint(len(corpus['Top1']))\n",
    "print(\"Random Integer\", randint, \"\\n\")\n",
    "kneighbors_query = nn.kneighbors([dtm.iloc[randint]])\n",
    "print(kneighbors_query, \"\\n\")\n",
    "print(corpus['Top1'][randint], \"\\n\")\n",
    "print(corpus['Top1'][kneighbors_query[1][0][1]], \"\\n\")\n",
    "print(corpus['Top1'][kneighbors_query[1][0][2]])\n",
    "\n",
    "# From seeing a few examples I get the sense that the system is biased\n",
    "# towards shorter headlines... I wonder why??\n",
    "# ?-- TODO --? The Following Show Up Disproportionately:\n",
    "# 'What a surprise...' [385]\n",
    "# 'Scenes from the recession' [152]\n",
    "# 'June 4th, 1989' [205]"
   ]
  },
  {
   "cell_type": "markdown",
   "metadata": {},
   "source": [
    "### Making a match with an outside text source."
   ]
  },
  {
   "cell_type": "code",
   "execution_count": 34,
   "metadata": {},
   "outputs": [],
   "source": [
    "new_doc = [\"There is a New President.\"]"
   ]
  },
  {
   "cell_type": "code",
   "execution_count": 35,
   "metadata": {},
   "outputs": [
    {
     "data": {
      "text/plain": [
       "<1x1534 sparse matrix of type '<class 'numpy.float64'>'\n",
       "\twith 2 stored elements in Compressed Sparse Row format>"
      ]
     },
     "execution_count": 35,
     "metadata": {},
     "output_type": "execute_result"
    }
   ],
   "source": [
    "# Query for Sim of Random Doc to Our Reddit Headlines\n",
    "# Create a DTM Row (With TDIF Values) for the new doc.\n",
    "# -> Relative the Reddit Headline Corpus\n",
    "new = tfidf.transform(new_doc)\n",
    "new # LOOK -> Only 2 stored elements! Only 2 words from the sample new doc are\n",
    "    # included in the Term Set.. a good indicator that this headline might not\n",
    "    # work as well with the present model."
   ]
  },
  {
   "cell_type": "markdown",
   "metadata": {},
   "source": [
    "We could decide on a threshold for `number of stored_elements` under-which we refuse to provide a reccomendation in order to reduce the amount of impractical, inaccurate results."
   ]
  },
  {
   "cell_type": "code",
   "execution_count": 36,
   "metadata": {},
   "outputs": [],
   "source": [
    "# Turn the Sparse Matrix into a Dense Matrix\n",
    "new = new.todense()"
   ]
  },
  {
   "cell_type": "code",
   "execution_count": 37,
   "metadata": {},
   "outputs": [
    {
     "data": {
      "text/plain": [
       "(array([[0.98509509, 1.        , 1.        , 1.        , 1.        ]]),\n",
       " array([[ 192,  385,  205, 1472,  152]]))"
      ]
     },
     "execution_count": 37,
     "metadata": {},
     "output_type": "execute_result"
    }
   ],
   "source": [
    "# Now we have a new doc/row that is expressed in a dense TF-IDF Term Vector\n",
    "# and we are going to plug that row into our KNN model to get an output of our\n",
    "# K- nearest neighbors\n",
    "nn.kneighbors(new)"
   ]
  },
  {
   "cell_type": "code",
   "execution_count": 38,
   "metadata": {},
   "outputs": [
    {
     "data": {
      "text/plain": [
       "'\\'\"I was murdered by president Alvaro Colom\"\\''"
      ]
     },
     "execution_count": 38,
     "metadata": {},
     "output_type": "execute_result"
    }
   ],
   "source": [
    "corpus['Top1'][192]"
   ]
  },
  {
   "cell_type": "markdown",
   "metadata": {},
   "source": [
    "The limitation exists in that... docs that have few tokens that are included in the vocabulary of the Doc-Term Matrix will be extra sparse (aka. many zeros).\n",
    "--> Other vectors that also contain a high proportion of zeros will be identified by the KNN model as 'similar', even though the only similarity the 2 docs have in common is thier lack of tokens that are a part of the term set. --> Thats why the KNN model might be biased to favor shorter headlines when comparing a headline that does not include many high TF-IDF values."
   ]
  },
  {
   "cell_type": "markdown",
   "metadata": {},
   "source": [
    "How would JC set a distance threshold for recommendations from my KNN model?\n",
    "\n",
    "1. Select a sample size of query articles.\n",
    "2. Then he would get the knn recommendations for those 10 articles ~5 recommendations each.\n",
    "3. For each of the 50 recs, he would label them as useful or not useful.\n",
    "4. Take one of the following values as the threshold:\n",
    "    - Max Distance of the Useful Labelled recs\n",
    "    - 75% percentile distance of the use labelled recs\n",
    "    - Min of the not useful labelled recs\n",
    "\n",
    "Then after he has his model in production, he would run a similar experiment using A/B testing."
   ]
  },
  {
   "cell_type": "markdown",
   "metadata": {},
   "source": [
    "### Word Embeddings"
   ]
  },
  {
   "cell_type": "code",
   "execution_count": 39,
   "metadata": {},
   "outputs": [
    {
     "name": "stdout",
     "output_type": "stream",
     "text": [
      "300\n",
      "[ 0.20798424 -0.26089048 -0.11545725 -0.19644375 -0.00283249  0.035585\n",
      " -0.20517    -0.22737475  0.08560525  1.3689475  -0.0574125   0.080621\n",
      "  0.02372751  0.11745405 -0.006531   -0.1244      0.19908676  0.63772255\n",
      "  0.152917   -0.233505   -0.24091    -0.07115    -0.09107532  0.0716735\n",
      "  0.11626275 -0.3913725   0.11304875 -0.2113275   0.10901908 -0.24488541\n",
      "  0.03005775  0.04778558  0.07378     0.25714204  0.26258624 -0.16689749\n",
      "  0.1875965  -0.012368   -0.17629975  0.111685    0.0182025   0.009865\n",
      " -0.35877    -0.2232655  -0.043772    0.3639995   0.0742955   0.12122551\n",
      "  0.137013   -0.05506665]\n"
     ]
    }
   ],
   "source": [
    "nlp = spacy.load('en_core_web_lg')\n",
    "\n",
    "doc = nlp(\"Two bananas in pyjamas\")\n",
    "\n",
    "# Get the vector for the token \"bananas\"\n",
    "# ?-- How does this spaCy vector differ from the vectors of the DTM? --?\n",
    "# For each term-document pair, the TF-IDF DTM ascribes only 1 TF-IDF Value\n",
    "# ?-- In this case we would see a matrix for each document-term pair.. \n",
    "# or a matrix for each term/token? --?\n",
    "# -- SOLVED -> It is querying from a complex data-structure that represents\n",
    "# the english language. The vector of a doc represents the location of the doc\n",
    "# among this \"english map\"...\n",
    "bananas_vector = doc.vector\n",
    "# These values are un-interpretable.\n",
    "# For ALL Docs of ANY Length, a vector of length 300 will be constructed to \n",
    "# represent said vector.\n",
    "# ?-- New Question -> How are the multiple tokens that form a doc aggregated\n",
    "# to always have a vector of length 300? Are they averaged? --?\n",
    "print(len(bananas_vector))\n",
    "print(bananas_vector[:50])"
   ]
  },
  {
   "cell_type": "code",
   "execution_count": 41,
   "metadata": {},
   "outputs": [
    {
     "data": {
      "text/plain": [
       "array([[ 2.24837901,  4.64058652],\n",
       "       [ 1.6698076 ,  4.5151085 ],\n",
       "       [ 0.98661567,  4.70905827],\n",
       "       [ 0.77894667,  1.8011122 ],\n",
       "       [-1.71120742, -1.3381699 ],\n",
       "       [-3.23442003, -0.56666201],\n",
       "       [-2.62869424, -1.29522234],\n",
       "       [ 0.54058958, -0.16888859],\n",
       "       [-1.67977536, -0.58448348],\n",
       "       [-2.20593549, -0.55952406],\n",
       "       [-0.84751709,  1.05688777],\n",
       "       [-1.01051534, -0.51156597],\n",
       "       [-3.1745466 , -0.18483697],\n",
       "       [-3.00263776,  0.09512922],\n",
       "       [-2.51905141,  0.40474798],\n",
       "       [ 0.62232175, -0.52917946],\n",
       "       [ 2.5152988 , -1.64965315],\n",
       "       [ 2.9285929 , -2.04525476],\n",
       "       [ 3.42334013, -1.96686179],\n",
       "       [ 3.47834444, -2.22727975],\n",
       "       [ 2.79263995, -2.72236593],\n",
       "       [ 0.02942422, -0.87268231]])"
      ]
     },
     "execution_count": 41,
     "metadata": {},
     "output_type": "execute_result"
    }
   ],
   "source": [
    "from sklearn.decomposition import PCA\n",
    "\n",
    "def get_word_vectors(words):\n",
    "    # Converts a list of words into their word vectors.\n",
    "    # Returns a List of Word Vectors\n",
    "    return [nlp(word).vector for word in words]\n",
    "\n",
    "words = ['car', 'truck', 'suv', 'race', 'elves', 'dragon', 'sword', 'king',\n",
    "         'queen', 'prince', 'horse', 'fish', 'lion', 'tiger', 'lynx', 'potato',\n",
    "         'baking', 'textbook', 'student', 'homework', 'studying', 'fear']\n",
    "\n",
    "# Initalize pca model and tell it to project data down onto 2 dimensions.\n",
    "pca = PCA(n_components=2)\n",
    "\n",
    "# fit the pca model to our 300-D data, this will work out which is the best way\n",
    "# to project the data down that will best maintain the relative distances\n",
    "# between data points.\n",
    "# It will store these instructions on how to transform the data.\n",
    "pca.fit(get_word_vectors(words))\n",
    "\n",
    "# Tell our (fitted) pca model to transform our 300D data down onto 2D using the\n",
    "# instructions it learned during the fit phase.\n",
    "word_vecs_2d = pca.transform(get_word_vectors(words))\n",
    "\n",
    "# let's look at our new 2D word vectors\n",
    "word_vecs_2d"
   ]
  },
  {
   "cell_type": "code",
   "execution_count": 71,
   "metadata": {},
   "outputs": [
    {
     "name": "stdout",
     "output_type": "stream",
     "text": [
      "Length of Embeddings List:  22\n",
      "Size of Original Embedding Vector:  300\n",
      "Size of Reduced Embedding Vector:  2\n"
     ]
    }
   ],
   "source": [
    "print(\"Length of Embeddings List: \", len(get_word_vectors(words)))\n",
    "print(\"Size of Original Embedding Vector: \", len(get_word_vectors(words)[0]))\n",
    "print(\"Size of Reduced Embedding Vector: \", len(word_vecs_2d[0]))"
   ]
  },
  {
   "cell_type": "code",
   "execution_count": 42,
   "metadata": {},
   "outputs": [
    {
     "data": {
      "image/png": "[encoded data removed]",
      "text/plain": [
       "<Figure size 1440x1080 with 1 Axes>"
      ]
     },
     "metadata": {
      "needs_background": "light"
     },
     "output_type": "display_data"
    }
   ],
   "source": [
    "import matplotlib.pyplot as plt\n",
    "\n",
    "plt.figure(figsize=(20, 15))\n",
    "\n",
    "# plot the catter plot of where the words will be\n",
    "plt.scatter(word_vecs_2d[:, 0], word_vecs_2d[:,1])\n",
    "\n",
    "# for each word and coordinate pair: draw the text on the plot\n",
    "for word, coord in zip(words, word_vecs_2d):\n",
    "    x, y = coord\n",
    "    plt.text(x, y, word, size=15)\n",
    "\n",
    "# show the plot\n",
    "plt.show()"
   ]
  },
  {
   "cell_type": "code",
   "execution_count": 43,
   "metadata": {},
   "outputs": [],
   "source": [
    "# Most popular word embeddings today is 'Berts' or 'Elmo'?"
   ]
  },
  {
   "cell_type": "code",
   "execution_count": null,
   "metadata": {},
   "outputs": [],
   "source": []
  },
  {
   "cell_type": "code",
   "execution_count": null,
   "metadata": {},
   "outputs": [],
   "source": []
  }
 ],
 "metadata": {
  "kernelspec": {
   "display_name": "venv2",
   "language": "python",
   "name": "venv2"
  },
  "language_info": {
   "codemirror_mode": {
    "name": "ipython",
    "version": 3
   },
   "file_extension": ".py",
   "mimetype": "text/x-python",
   "name": "python",
   "nbconvert_exporter": "python",
   "pygments_lexer": "ipython3",
   "version": "3.8.1"
  }
 },
 "nbformat": 4,
 "nbformat_minor": 4
}

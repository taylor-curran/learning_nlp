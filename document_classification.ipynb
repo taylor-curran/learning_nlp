{
 "cells": [
  {
   "cell_type": "code",
   "execution_count": 1,
   "metadata": {},
   "outputs": [],
   "source": [
    "import pandas as pd"
   ]
  },
  {
   "cell_type": "code",
   "execution_count": 2,
   "metadata": {},
   "outputs": [],
   "source": [
    "combined = pd.read_csv('data/Combined_News_DJIA.csv')\n",
    "news = pd.read_csv('data/RedditNews.csv')\n",
    "market = pd.read_csv('data/upload_DJIA_table.csv')"
   ]
  },
  {
   "cell_type": "code",
   "execution_count": 3,
   "metadata": {},
   "outputs": [
    {
     "name": "stdout",
     "output_type": "stream",
     "text": [
      "(1989, 27)\n"
     ]
    },
    {
     "data": {
      "text/html": [
       "<div>\n",
       "<style scoped>\n",
       "    .dataframe tbody tr th:only-of-type {\n",
       "        vertical-align: middle;\n",
       "    }\n",
       "\n",
       "    .dataframe tbody tr th {\n",
       "        vertical-align: top;\n",
       "    }\n",
       "\n",
       "    .dataframe thead th {\n",
       "        text-align: right;\n",
       "    }\n",
       "</style>\n",
       "<table border=\"1\" class=\"dataframe\">\n",
       "  <thead>\n",
       "    <tr style=\"text-align: right;\">\n",
       "      <th></th>\n",
       "      <th>Date</th>\n",
       "      <th>Label</th>\n",
       "      <th>Top1</th>\n",
       "      <th>Top2</th>\n",
       "      <th>Top3</th>\n",
       "      <th>Top4</th>\n",
       "      <th>Top5</th>\n",
       "      <th>Top6</th>\n",
       "      <th>Top7</th>\n",
       "      <th>Top8</th>\n",
       "      <th>...</th>\n",
       "      <th>Top16</th>\n",
       "      <th>Top17</th>\n",
       "      <th>Top18</th>\n",
       "      <th>Top19</th>\n",
       "      <th>Top20</th>\n",
       "      <th>Top21</th>\n",
       "      <th>Top22</th>\n",
       "      <th>Top23</th>\n",
       "      <th>Top24</th>\n",
       "      <th>Top25</th>\n",
       "    </tr>\n",
       "  </thead>\n",
       "  <tbody>\n",
       "    <tr>\n",
       "      <th>0</th>\n",
       "      <td>2008-08-08</td>\n",
       "      <td>0</td>\n",
       "      <td>b\"Georgia 'downs two Russian warplanes' as cou...</td>\n",
       "      <td>b'BREAKING: Musharraf to be impeached.'</td>\n",
       "      <td>b'Russia Today: Columns of troops roll into So...</td>\n",
       "      <td>b'Russian tanks are moving towards the capital...</td>\n",
       "      <td>b\"Afghan children raped with 'impunity,' U.N. ...</td>\n",
       "      <td>b'150 Russian tanks have entered South Ossetia...</td>\n",
       "      <td>b\"Breaking: Georgia invades South Ossetia, Rus...</td>\n",
       "      <td>b\"The 'enemy combatent' trials are nothing but...</td>\n",
       "      <td>...</td>\n",
       "      <td>b'Georgia Invades South Ossetia - if Russia ge...</td>\n",
       "      <td>b'Al-Qaeda Faces Islamist Backlash'</td>\n",
       "      <td>b'Condoleezza Rice: \"The US would not act to p...</td>\n",
       "      <td>b'This is a busy day:  The European Union has ...</td>\n",
       "      <td>b\"Georgia will withdraw 1,000 soldiers from Ir...</td>\n",
       "      <td>b'Why the Pentagon Thinks Attacking Iran is a ...</td>\n",
       "      <td>b'Caucasus in crisis: Georgia invades South Os...</td>\n",
       "      <td>b'Indian shoe manufactory  - And again in a se...</td>\n",
       "      <td>b'Visitors Suffering from Mental Illnesses Ban...</td>\n",
       "      <td>b\"No Help for Mexico's Kidnapping Surge\"</td>\n",
       "    </tr>\n",
       "  </tbody>\n",
       "</table>\n",
       "<p>1 rows × 27 columns</p>\n",
       "</div>"
      ],
      "text/plain": [
       "         Date  Label                                               Top1  \\\n",
       "0  2008-08-08      0  b\"Georgia 'downs two Russian warplanes' as cou...   \n",
       "\n",
       "                                      Top2  \\\n",
       "0  b'BREAKING: Musharraf to be impeached.'   \n",
       "\n",
       "                                                Top3  \\\n",
       "0  b'Russia Today: Columns of troops roll into So...   \n",
       "\n",
       "                                                Top4  \\\n",
       "0  b'Russian tanks are moving towards the capital...   \n",
       "\n",
       "                                                Top5  \\\n",
       "0  b\"Afghan children raped with 'impunity,' U.N. ...   \n",
       "\n",
       "                                                Top6  \\\n",
       "0  b'150 Russian tanks have entered South Ossetia...   \n",
       "\n",
       "                                                Top7  \\\n",
       "0  b\"Breaking: Georgia invades South Ossetia, Rus...   \n",
       "\n",
       "                                                Top8  ...  \\\n",
       "0  b\"The 'enemy combatent' trials are nothing but...  ...   \n",
       "\n",
       "                                               Top16  \\\n",
       "0  b'Georgia Invades South Ossetia - if Russia ge...   \n",
       "\n",
       "                                 Top17  \\\n",
       "0  b'Al-Qaeda Faces Islamist Backlash'   \n",
       "\n",
       "                                               Top18  \\\n",
       "0  b'Condoleezza Rice: \"The US would not act to p...   \n",
       "\n",
       "                                               Top19  \\\n",
       "0  b'This is a busy day:  The European Union has ...   \n",
       "\n",
       "                                               Top20  \\\n",
       "0  b\"Georgia will withdraw 1,000 soldiers from Ir...   \n",
       "\n",
       "                                               Top21  \\\n",
       "0  b'Why the Pentagon Thinks Attacking Iran is a ...   \n",
       "\n",
       "                                               Top22  \\\n",
       "0  b'Caucasus in crisis: Georgia invades South Os...   \n",
       "\n",
       "                                               Top23  \\\n",
       "0  b'Indian shoe manufactory  - And again in a se...   \n",
       "\n",
       "                                               Top24  \\\n",
       "0  b'Visitors Suffering from Mental Illnesses Ban...   \n",
       "\n",
       "                                      Top25  \n",
       "0  b\"No Help for Mexico's Kidnapping Surge\"  \n",
       "\n",
       "[1 rows x 27 columns]"
      ]
     },
     "execution_count": 3,
     "metadata": {},
     "output_type": "execute_result"
    }
   ],
   "source": [
    "print(combined.shape)\n",
    "combined.head(1)"
   ]
  },
  {
   "cell_type": "code",
   "execution_count": 4,
   "metadata": {},
   "outputs": [
    {
     "data": {
      "text/html": [
       "<div>\n",
       "<style scoped>\n",
       "    .dataframe tbody tr th:only-of-type {\n",
       "        vertical-align: middle;\n",
       "    }\n",
       "\n",
       "    .dataframe tbody tr th {\n",
       "        vertical-align: top;\n",
       "    }\n",
       "\n",
       "    .dataframe thead th {\n",
       "        text-align: right;\n",
       "    }\n",
       "</style>\n",
       "<table border=\"1\" class=\"dataframe\">\n",
       "  <thead>\n",
       "    <tr style=\"text-align: right;\">\n",
       "      <th></th>\n",
       "      <th>Date</th>\n",
       "      <th>Label</th>\n",
       "      <th>Top1</th>\n",
       "      <th>Top2</th>\n",
       "      <th>Top3</th>\n",
       "      <th>Top4</th>\n",
       "      <th>Top5</th>\n",
       "      <th>Top6</th>\n",
       "      <th>Top7</th>\n",
       "      <th>Top8</th>\n",
       "      <th>...</th>\n",
       "      <th>Top16</th>\n",
       "      <th>Top17</th>\n",
       "      <th>Top18</th>\n",
       "      <th>Top19</th>\n",
       "      <th>Top20</th>\n",
       "      <th>Top21</th>\n",
       "      <th>Top22</th>\n",
       "      <th>Top23</th>\n",
       "      <th>Top24</th>\n",
       "      <th>Top25</th>\n",
       "    </tr>\n",
       "  </thead>\n",
       "  <tbody>\n",
       "    <tr>\n",
       "      <th>0</th>\n",
       "      <td>2008-08-08</td>\n",
       "      <td>0</td>\n",
       "      <td>Georgia 'downs two Russian warplanes' as count...</td>\n",
       "      <td>'BREAKING: Musharraf to be impeached.'</td>\n",
       "      <td>'Russia Today: Columns of troops roll into Sou...</td>\n",
       "      <td>'Russian tanks are moving towards the capital ...</td>\n",
       "      <td>Afghan children raped with 'impunity,' U.N. of...</td>\n",
       "      <td>'150 Russian tanks have entered South Ossetia ...</td>\n",
       "      <td>Breaking: Georgia invades South Ossetia, Russi...</td>\n",
       "      <td>The 'enemy combatent' trials are nothing but a...</td>\n",
       "      <td>...</td>\n",
       "      <td>'Georgia Invades South Ossetia - if Russia get...</td>\n",
       "      <td>'Al-Qaeda Faces Islamist Backlash'</td>\n",
       "      <td>'Condoleezza Rice: \"The US would not act to pr...</td>\n",
       "      <td>'This is a busy day:  The European Union has a...</td>\n",
       "      <td>Georgia will withdraw 1,000 soldiers from Iraq...</td>\n",
       "      <td>'Why the Pentagon Thinks Attacking Iran is a B...</td>\n",
       "      <td>'Caucasus in crisis: Georgia invades South Oss...</td>\n",
       "      <td>'Indian shoe manufactory  - And again in a ser...</td>\n",
       "      <td>'Visitors Suffering from Mental Illnesses Bann...</td>\n",
       "      <td>No Help for Mexico's Kidnapping Surge\"</td>\n",
       "    </tr>\n",
       "    <tr>\n",
       "      <th>1</th>\n",
       "      <td>2008-08-11</td>\n",
       "      <td>1</td>\n",
       "      <td>'Why wont America and Nato help us? If they wo...</td>\n",
       "      <td>'Bush puts foot down on Georgian conflict'</td>\n",
       "      <td>Jewish Georgian minister: Thanks to Israeli tr...</td>\n",
       "      <td>'Georgian army flees in disarray as Russians a...</td>\n",
       "      <td>Olympic opening ceremony fireworks 'faked'\"</td>\n",
       "      <td>'What were the Mossad with fraudulent New Zeal...</td>\n",
       "      <td>'Russia angered by Israeli military sale to Ge...</td>\n",
       "      <td>'An American citizen living in S.Ossetia blame...</td>\n",
       "      <td>...</td>\n",
       "      <td>'Israel and the US behind the Georgian aggress...</td>\n",
       "      <td>'\"Do not believe TV, neither Russian nor Georg...</td>\n",
       "      <td>'Riots are still going on in Montreal (Canada)...</td>\n",
       "      <td>'China to overtake US as largest manufacturer'</td>\n",
       "      <td>'War in South Ossetia [PICS]'</td>\n",
       "      <td>'Israeli Physicians Group Condemns State Torture'</td>\n",
       "      <td>' Russia has just beaten the United States ove...</td>\n",
       "      <td>'Perhaps *the* question about the Georgia - Ru...</td>\n",
       "      <td>'Russia is so much better at war'</td>\n",
       "      <td>So this is what it's come to: trading sex for ...</td>\n",
       "    </tr>\n",
       "  </tbody>\n",
       "</table>\n",
       "<p>2 rows × 27 columns</p>\n",
       "</div>"
      ],
      "text/plain": [
       "         Date  Label                                               Top1  \\\n",
       "0  2008-08-08      0  Georgia 'downs two Russian warplanes' as count...   \n",
       "1  2008-08-11      1  'Why wont America and Nato help us? If they wo...   \n",
       "\n",
       "                                         Top2  \\\n",
       "0      'BREAKING: Musharraf to be impeached.'   \n",
       "1  'Bush puts foot down on Georgian conflict'   \n",
       "\n",
       "                                                Top3  \\\n",
       "0  'Russia Today: Columns of troops roll into Sou...   \n",
       "1  Jewish Georgian minister: Thanks to Israeli tr...   \n",
       "\n",
       "                                                Top4  \\\n",
       "0  'Russian tanks are moving towards the capital ...   \n",
       "1  'Georgian army flees in disarray as Russians a...   \n",
       "\n",
       "                                                Top5  \\\n",
       "0  Afghan children raped with 'impunity,' U.N. of...   \n",
       "1        Olympic opening ceremony fireworks 'faked'\"   \n",
       "\n",
       "                                                Top6  \\\n",
       "0  '150 Russian tanks have entered South Ossetia ...   \n",
       "1  'What were the Mossad with fraudulent New Zeal...   \n",
       "\n",
       "                                                Top7  \\\n",
       "0  Breaking: Georgia invades South Ossetia, Russi...   \n",
       "1  'Russia angered by Israeli military sale to Ge...   \n",
       "\n",
       "                                                Top8  ...  \\\n",
       "0  The 'enemy combatent' trials are nothing but a...  ...   \n",
       "1  'An American citizen living in S.Ossetia blame...  ...   \n",
       "\n",
       "                                               Top16  \\\n",
       "0  'Georgia Invades South Ossetia - if Russia get...   \n",
       "1  'Israel and the US behind the Georgian aggress...   \n",
       "\n",
       "                                               Top17  \\\n",
       "0                 'Al-Qaeda Faces Islamist Backlash'   \n",
       "1  '\"Do not believe TV, neither Russian nor Georg...   \n",
       "\n",
       "                                               Top18  \\\n",
       "0  'Condoleezza Rice: \"The US would not act to pr...   \n",
       "1  'Riots are still going on in Montreal (Canada)...   \n",
       "\n",
       "                                               Top19  \\\n",
       "0  'This is a busy day:  The European Union has a...   \n",
       "1     'China to overtake US as largest manufacturer'   \n",
       "\n",
       "                                               Top20  \\\n",
       "0  Georgia will withdraw 1,000 soldiers from Iraq...   \n",
       "1                      'War in South Ossetia [PICS]'   \n",
       "\n",
       "                                               Top21  \\\n",
       "0  'Why the Pentagon Thinks Attacking Iran is a B...   \n",
       "1  'Israeli Physicians Group Condemns State Torture'   \n",
       "\n",
       "                                               Top22  \\\n",
       "0  'Caucasus in crisis: Georgia invades South Oss...   \n",
       "1  ' Russia has just beaten the United States ove...   \n",
       "\n",
       "                                               Top23  \\\n",
       "0  'Indian shoe manufactory  - And again in a ser...   \n",
       "1  'Perhaps *the* question about the Georgia - Ru...   \n",
       "\n",
       "                                               Top24  \\\n",
       "0  'Visitors Suffering from Mental Illnesses Bann...   \n",
       "1                  'Russia is so much better at war'   \n",
       "\n",
       "                                               Top25  \n",
       "0             No Help for Mexico's Kidnapping Surge\"  \n",
       "1  So this is what it's come to: trading sex for ...  \n",
       "\n",
       "[2 rows x 27 columns]"
      ]
     },
     "execution_count": 4,
     "metadata": {},
     "output_type": "execute_result"
    }
   ],
   "source": [
    "# Remove 'b'-prefixes\n",
    "# Applymap -> Like .apply() but Applied to Entire DF\n",
    "combined = combined.applymap(lambda cell: cell.strip() if type(cell)==str else cell)\n",
    "combined = combined.applymap(lambda cell: cell.lstrip('b\"') if type(cell)==str else cell)\n",
    "combined.head(2)"
   ]
  },
  {
   "cell_type": "code",
   "execution_count": 5,
   "metadata": {},
   "outputs": [
    {
     "name": "stdout",
     "output_type": "stream",
     "text": [
      "(1989, 3)\n"
     ]
    },
    {
     "data": {
      "text/html": [
       "<div>\n",
       "<style scoped>\n",
       "    .dataframe tbody tr th:only-of-type {\n",
       "        vertical-align: middle;\n",
       "    }\n",
       "\n",
       "    .dataframe tbody tr th {\n",
       "        vertical-align: top;\n",
       "    }\n",
       "\n",
       "    .dataframe thead th {\n",
       "        text-align: right;\n",
       "    }\n",
       "</style>\n",
       "<table border=\"1\" class=\"dataframe\">\n",
       "  <thead>\n",
       "    <tr style=\"text-align: right;\">\n",
       "      <th></th>\n",
       "      <th>Date</th>\n",
       "      <th>Label</th>\n",
       "      <th>Top1</th>\n",
       "    </tr>\n",
       "  </thead>\n",
       "  <tbody>\n",
       "    <tr>\n",
       "      <th>0</th>\n",
       "      <td>2008-08-08</td>\n",
       "      <td>0</td>\n",
       "      <td>Georgia 'downs two Russian warplanes' as count...</td>\n",
       "    </tr>\n",
       "    <tr>\n",
       "      <th>1</th>\n",
       "      <td>2008-08-11</td>\n",
       "      <td>1</td>\n",
       "      <td>'Why wont America and Nato help us? If they wo...</td>\n",
       "    </tr>\n",
       "    <tr>\n",
       "      <th>2</th>\n",
       "      <td>2008-08-12</td>\n",
       "      <td>0</td>\n",
       "      <td>'Remember that adorable 9-year-old who sang at...</td>\n",
       "    </tr>\n",
       "  </tbody>\n",
       "</table>\n",
       "</div>"
      ],
      "text/plain": [
       "         Date  Label                                               Top1\n",
       "0  2008-08-08      0  Georgia 'downs two Russian warplanes' as count...\n",
       "1  2008-08-11      1  'Why wont America and Nato help us? If they wo...\n",
       "2  2008-08-12      0  'Remember that adorable 9-year-old who sang at..."
      ]
     },
     "execution_count": 5,
     "metadata": {},
     "output_type": "execute_result"
    }
   ],
   "source": [
    "# Sample Corpus from Combined DF\n",
    "# -- Includes Only Top1 Headlines\n",
    "corpus = combined[['Date', 'Label', 'Top1']]\n",
    "print(corpus.shape)\n",
    "corpus.head(3)"
   ]
  },
  {
   "cell_type": "code",
   "execution_count": 104,
   "metadata": {},
   "outputs": [
    {
     "data": {
      "text/html": [
       "<div>\n",
       "<style scoped>\n",
       "    .dataframe tbody tr th:only-of-type {\n",
       "        vertical-align: middle;\n",
       "    }\n",
       "\n",
       "    .dataframe tbody tr th {\n",
       "        vertical-align: top;\n",
       "    }\n",
       "\n",
       "    .dataframe thead th {\n",
       "        text-align: right;\n",
       "    }\n",
       "</style>\n",
       "<table border=\"1\" class=\"dataframe\">\n",
       "  <thead>\n",
       "    <tr style=\"text-align: right;\">\n",
       "      <th></th>\n",
       "      <th>Date</th>\n",
       "      <th>Label</th>\n",
       "      <th>Top1</th>\n",
       "    </tr>\n",
       "  </thead>\n",
       "  <tbody>\n",
       "    <tr>\n",
       "      <th>1987</th>\n",
       "      <td>2016-06-30</td>\n",
       "      <td>1</td>\n",
       "      <td>Jamaica proposes marijuana dispensers for tour...</td>\n",
       "    </tr>\n",
       "    <tr>\n",
       "      <th>1988</th>\n",
       "      <td>2016-07-01</td>\n",
       "      <td>1</td>\n",
       "      <td>A 117-year-old woman in Mexico City finally re...</td>\n",
       "    </tr>\n",
       "  </tbody>\n",
       "</table>\n",
       "</div>"
      ],
      "text/plain": [
       "            Date  Label                                               Top1\n",
       "1987  2016-06-30      1  Jamaica proposes marijuana dispensers for tour...\n",
       "1988  2016-07-01      1  A 117-year-old woman in Mexico City finally re..."
      ]
     },
     "execution_count": 104,
     "metadata": {},
     "output_type": "execute_result"
    }
   ],
   "source": [
    "corpus.tail(2)"
   ]
  },
  {
   "cell_type": "code",
   "execution_count": 128,
   "metadata": {},
   "outputs": [
    {
     "name": "stdout",
     "output_type": "stream",
     "text": [
      "Val Size Ratio:  0.19004524886877827\n"
     ]
    }
   ],
   "source": [
    "# Separate Train and Validation\n",
    "mask = pd.to_datetime(corpus['Date']) < pd.to_datetime(2015, format='%Y')\n",
    "val_train_size_ratio = (sum(~mask)) / (len(corpus['Date']))\n",
    "print(\"Val Size Ratio: \", val_train_size_ratio)\n",
    "corpus_train = corpus[mask]\n",
    "corpus_val = corpus[~mask]"
   ]
  },
  {
   "cell_type": "code",
   "execution_count": 13,
   "metadata": {},
   "outputs": [],
   "source": [
    "# Import Statements\n",
    "from sklearn.pipeline import Pipeline\n",
    "from sklearn.ensemble import RandomForestClassifier\n",
    "from sklearn.model_selection import GridSearchCV\n",
    "from sklearn.feature_extraction.text import TfidfVectorizer"
   ]
  },
  {
   "cell_type": "markdown",
   "metadata": {},
   "source": [
    "## Try on Built-In Dataset"
   ]
  },
  {
   "cell_type": "code",
   "execution_count": 14,
   "metadata": {},
   "outputs": [],
   "source": [
    "# Dataset\n",
    "from sklearn.datasets import fetch_20newsgroups\n",
    "\n",
    "categories = ['alt.atheism',\n",
    "              'talk.religion.misc']\n",
    "\n",
    "data = fetch_20newsgroups(subset='train', categories=categories)"
   ]
  },
  {
   "cell_type": "code",
   "execution_count": 15,
   "metadata": {},
   "outputs": [],
   "source": [
    "# Create Pipeline Components\n",
    "\n",
    "vect = TfidfVectorizer(stop_words='english', ngram_range=(1, 2))\n",
    "rfc = RandomForestClassifier()"
   ]
  },
  {
   "cell_type": "code",
   "execution_count": 16,
   "metadata": {},
   "outputs": [],
   "source": [
    "# Define the Pipeline\n",
    "\n",
    "pipe = Pipeline([\n",
    "    # Vectorizer\n",
    "    ('vect', vect),\n",
    "    # Classifier\n",
    "    ('clf', rfc)\n",
    "])\n"
   ]
  },
  {
   "cell_type": "code",
   "execution_count": 22,
   "metadata": {},
   "outputs": [
    {
     "name": "stdout",
     "output_type": "stream",
     "text": [
      "Fitting 5 folds for each of 16 candidates, totalling 80 fits\n"
     ]
    },
    {
     "name": "stderr",
     "output_type": "stream",
     "text": [
      "[Parallel(n_jobs=6)]: Using backend LokyBackend with 6 concurrent workers.\n",
      "[Parallel(n_jobs=6)]: Done  38 tasks      | elapsed:    6.6s\n",
      "[Parallel(n_jobs=6)]: Done  80 out of  80 | elapsed:   12.0s finished\n"
     ]
    },
    {
     "data": {
      "text/plain": [
       "GridSearchCV(cv=5,\n",
       "             estimator=Pipeline(steps=[('vect',\n",
       "                                        TfidfVectorizer(ngram_range=(1, 2),\n",
       "                                                        stop_words='english')),\n",
       "                                       ('clf', RandomForestClassifier())]),\n",
       "             n_jobs=6,\n",
       "             param_grid={'clf__max_depth': (15, 20),\n",
       "                         'vect__max_df': (0.75, 1.0),\n",
       "                         'vect__max_features': (500, 1000),\n",
       "                         'vect__min_df': (0.02, 0.05)},\n",
       "             verbose=1)"
      ]
     },
     "execution_count": 22,
     "metadata": {},
     "output_type": "execute_result"
    }
   ],
   "source": [
    "# Potential Parameters for Our Pipeline Components\n",
    "parameters = {\n",
    "    'vect__max_df': (0.75, 1.0),\n",
    "    'vect__min_df': (.02, .05),\n",
    "    'vect__max_features': (500, 1000),\n",
    "    'clf__max_depth': (15, 20)\n",
    "}\n",
    "\n",
    "grid_search = GridSearchCV(pipe, parameters, cv=5, n_jobs=6, verbose=1)\n",
    "# grid_search.fit(X, y)\n",
    "grid_search.fit(data.data, data.target)"
   ]
  },
  {
   "cell_type": "code",
   "execution_count": 35,
   "metadata": {},
   "outputs": [],
   "source": [
    "# grid_search.best_params_, grid_search.best_score_\n",
    "# ({'clf__max_depth': 20,\n",
    "#   'vect__max_df': 1.0,\n",
    "#   'vect__max_features': 1000,\n",
    "#   'vect__min_df': 0.02},\n",
    "#  0.9089827281381749)"
   ]
  },
  {
   "cell_type": "markdown",
   "metadata": {},
   "source": [
    "## Latent Semantic Indexing\n",
    "Combination of Bag of Words + Dimensionality Reduction"
   ]
  },
  {
   "cell_type": "markdown",
   "metadata": {},
   "source": [
    "## Try with Headline Data"
   ]
  },
  {
   "cell_type": "code",
   "execution_count": 27,
   "metadata": {},
   "outputs": [
    {
     "name": "stdout",
     "output_type": "stream",
     "text": [
      "(1989, 3)\n"
     ]
    },
    {
     "data": {
      "text/html": [
       "<div>\n",
       "<style scoped>\n",
       "    .dataframe tbody tr th:only-of-type {\n",
       "        vertical-align: middle;\n",
       "    }\n",
       "\n",
       "    .dataframe tbody tr th {\n",
       "        vertical-align: top;\n",
       "    }\n",
       "\n",
       "    .dataframe thead th {\n",
       "        text-align: right;\n",
       "    }\n",
       "</style>\n",
       "<table border=\"1\" class=\"dataframe\">\n",
       "  <thead>\n",
       "    <tr style=\"text-align: right;\">\n",
       "      <th></th>\n",
       "      <th>Date</th>\n",
       "      <th>Label</th>\n",
       "      <th>Top1</th>\n",
       "    </tr>\n",
       "  </thead>\n",
       "  <tbody>\n",
       "    <tr>\n",
       "      <th>0</th>\n",
       "      <td>2008-08-08</td>\n",
       "      <td>0</td>\n",
       "      <td>Georgia 'downs two Russian warplanes' as count...</td>\n",
       "    </tr>\n",
       "    <tr>\n",
       "      <th>1</th>\n",
       "      <td>2008-08-11</td>\n",
       "      <td>1</td>\n",
       "      <td>'Why wont America and Nato help us? If they wo...</td>\n",
       "    </tr>\n",
       "    <tr>\n",
       "      <th>2</th>\n",
       "      <td>2008-08-12</td>\n",
       "      <td>0</td>\n",
       "      <td>'Remember that adorable 9-year-old who sang at...</td>\n",
       "    </tr>\n",
       "  </tbody>\n",
       "</table>\n",
       "</div>"
      ],
      "text/plain": [
       "         Date  Label                                               Top1\n",
       "0  2008-08-08      0  Georgia 'downs two Russian warplanes' as count...\n",
       "1  2008-08-11      1  'Why wont America and Nato help us? If they wo...\n",
       "2  2008-08-12      0  'Remember that adorable 9-year-old who sang at..."
      ]
     },
     "execution_count": 27,
     "metadata": {},
     "output_type": "execute_result"
    }
   ],
   "source": [
    "print(corpus.shape)\n",
    "corpus.head(3)"
   ]
  },
  {
   "cell_type": "code",
   "execution_count": 94,
   "metadata": {},
   "outputs": [],
   "source": [
    "from sklearn.decomposition import TruncatedSVD\n",
    "# This is an option for dimensionality reduction that apparantly\n",
    "# works well with bag of words vectors.\n",
    "\n",
    "svd = TruncatedSVD(n_components=100,\n",
    "                   algorithm='randomized',\n",
    "                   n_iter=10)"
   ]
  },
  {
   "cell_type": "code",
   "execution_count": 95,
   "metadata": {},
   "outputs": [],
   "source": [
    "params = {\n",
    "    'lsi__svd__n_components': [10, 100, 250],\n",
    "    'lsi__vect__max_df': [0.9, 0.95, 1.0],\n",
    "    'clf__n_estimators': [5, 10, 20]\n",
    "}"
   ]
  },
  {
   "cell_type": "code",
   "execution_count": 96,
   "metadata": {},
   "outputs": [],
   "source": [
    "# Same Pipeline Components\n",
    "# Text to Vector and Classifier\n",
    "vect = TfidfVectorizer(stop_words='english', ngram_range=(1, 2))\n",
    "rfc = RandomForestClassifier()"
   ]
  },
  {
   "cell_type": "code",
   "execution_count": 97,
   "metadata": {},
   "outputs": [],
   "source": [
    "# Define the Pipeline\n",
    "\n",
    "# LSI\n",
    "lsi = Pipeline([('vect', vect), ('svd', svd)])\n",
    "\n",
    "# Estimator Pipe\n",
    "pipe = Pipeline([('lsi', lsi), ('clf', rfc)])"
   ]
  },
  {
   "cell_type": "code",
   "execution_count": 98,
   "metadata": {},
   "outputs": [
    {
     "name": "stdout",
     "output_type": "stream",
     "text": [
      "Fitting 5 folds for each of 27 candidates, totalling 135 fits\n"
     ]
    },
    {
     "name": "stderr",
     "output_type": "stream",
     "text": [
      "[Parallel(n_jobs=6)]: Using backend LokyBackend with 6 concurrent workers.\n",
      "[Parallel(n_jobs=6)]: Done  38 tasks      | elapsed:   20.3s\n",
      "[Parallel(n_jobs=6)]: Done 135 out of 135 | elapsed:  1.2min finished\n"
     ]
    },
    {
     "data": {
      "text/plain": [
       "GridSearchCV(cv=5,\n",
       "             estimator=Pipeline(steps=[('lsi',\n",
       "                                        Pipeline(steps=[('vect',\n",
       "                                                         TfidfVectorizer(ngram_range=(1,\n",
       "                                                                                      2),\n",
       "                                                                         stop_words='english')),\n",
       "                                                        ('svd',\n",
       "                                                         TruncatedSVD(n_components=100,\n",
       "                                                                      n_iter=10))])),\n",
       "                                       ('clf', RandomForestClassifier())]),\n",
       "             n_jobs=6,\n",
       "             param_grid={'clf__n_estimators': [5, 10, 20],\n",
       "                         'lsi__svd__n_components': [10, 100, 250],\n",
       "                         'lsi__vect__max_df': [0.9, 0.95, 1.0]},\n",
       "             verbose=1)"
      ]
     },
     "execution_count": 98,
     "metadata": {},
     "output_type": "execute_result"
    }
   ],
   "source": [
    "# Implement Grid Search\n",
    "grid_search = GridSearchCV(pipe, params, cv=5, n_jobs=6, verbose=1)\n",
    "# grid_search.fit(X, y)\n",
    "grid_search.fit(corpus['Top1'], corpus['Label'])"
   ]
  },
  {
   "cell_type": "code",
   "execution_count": 99,
   "metadata": {},
   "outputs": [],
   "source": [
    "# First Pass\n",
    "# grid_search.best_params_, grid_search.best_score_\n",
    "# ({'clf__max_depth': 15,\n",
    "#   'vect__max_df': 1.0,\n",
    "#   'vect__max_features': 500,\n",
    "#   'vect__min_df': 0.05},\n",
    "#  0.5369618875232586)\n",
    "\n",
    "# Pass with LSI\n",
    "# ({'clf__n_estimators': 20,\n",
    "#   'lsi__svd__n_components': 100,\n",
    "#   'lsi__vect__max_df': 0.9},\n",
    "#  0.531912712175487)"
   ]
  },
  {
   "cell_type": "code",
   "execution_count": 100,
   "metadata": {},
   "outputs": [
    {
     "data": {
      "text/plain": [
       "({'clf__n_estimators': 20,\n",
       "  'lsi__svd__n_components': 10,\n",
       "  'lsi__vect__max_df': 0.95},\n",
       " 0.5218814475399669)"
      ]
     },
     "execution_count": 100,
     "metadata": {},
     "output_type": "execute_result"
    }
   ],
   "source": [
    "grid_search.best_params_, grid_search.best_score_"
   ]
  },
  {
   "cell_type": "markdown",
   "metadata": {},
   "source": [
    "### Try with spaCy Vectorizor\n",
    "I'm not sure how to get a spaCy vectorizer to work within an sklearn pipeline."
   ]
  },
  {
   "cell_type": "code",
   "execution_count": 45,
   "metadata": {},
   "outputs": [],
   "source": [
    "import spacy\n",
    "import numpy as np\n",
    "nlp = spacy.load('en_core_web_lg')\n",
    "vectors = [np.array(nlp(word).vector) for word in corpus['Top1']]"
   ]
  },
  {
   "cell_type": "code",
   "execution_count": 65,
   "metadata": {},
   "outputs": [],
   "source": [
    "# # We Just Need a Classifier as the text has already been classified\n",
    "\n",
    "# pipe = Pipeline([\n",
    "#     # Vectorizer\n",
    "#     ('vect', piplinize),\n",
    "#     # Classifier\n",
    "#     ('clf', rfc)\n",
    "# ])"
   ]
  },
  {
   "cell_type": "code",
   "execution_count": 66,
   "metadata": {},
   "outputs": [],
   "source": [
    "# # Potential Parameters for Our Pipeline Components\n",
    "# parameters = {\n",
    "#     'clf__max_depth': (15, 20)\n",
    "# }\n",
    "\n",
    "# grid_search = GridSearchCV(pipe, parameters, cv=5, n_jobs=6, verbose=1)\n",
    "# # grid_search.fit(X, y)\n",
    "# grid_search.fit(corpus['Vectors'], corpus['Label'])"
   ]
  },
  {
   "cell_type": "code",
   "execution_count": 101,
   "metadata": {},
   "outputs": [],
   "source": [
    "# Get spaCy Vectors Function\n",
    "def get_word_vectors(docs):\n",
    "    return [nlp(doc).vector for doc in docs]"
   ]
  },
  {
   "cell_type": "code",
   "execution_count": null,
   "metadata": {},
   "outputs": [],
   "source": [
    "from sklearn.ensemble import RandomForestClassifier\n",
    "rfc = RandomForestClassifier()"
   ]
  },
  {
   "cell_type": "code",
   "execution_count": 132,
   "metadata": {},
   "outputs": [],
   "source": [
    "# Vectorize Train and Validation\n",
    "X_train = get_word_vectors(corpus_train['Top1'])\n",
    "X_val = get_word_vectors(corpus_val['Top1'])"
   ]
  },
  {
   "cell_type": "code",
   "execution_count": 133,
   "metadata": {},
   "outputs": [
    {
     "data": {
      "text/plain": [
       "RandomForestClassifier()"
      ]
     },
     "execution_count": 133,
     "metadata": {},
     "output_type": "execute_result"
    }
   ],
   "source": [
    "# Fit on the Random Foretst Classifier\n",
    "rfc.fit(X_train, corpus_train['Label'])"
   ]
  },
  {
   "cell_type": "code",
   "execution_count": 139,
   "metadata": {},
   "outputs": [
    {
     "data": {
      "text/plain": [
       "0.544973544973545"
      ]
     },
     "execution_count": 139,
     "metadata": {},
     "output_type": "execute_result"
    }
   ],
   "source": [
    "# Slightly Improved Accuracy\n",
    "rfc.score(X_val, corpus_val['Label'])"
   ]
  },
  {
   "cell_type": "code",
   "execution_count": 140,
   "metadata": {},
   "outputs": [],
   "source": [
    "predictions = rfc.predict(X_val)"
   ]
  },
  {
   "cell_type": "code",
   "execution_count": 141,
   "metadata": {},
   "outputs": [
    {
     "name": "stdout",
     "output_type": "stream",
     "text": [
      "Fitting 5 folds for each of 6 candidates, totalling 30 fits\n"
     ]
    },
    {
     "name": "stderr",
     "output_type": "stream",
     "text": [
      "[Parallel(n_jobs=4)]: Using backend LokyBackend with 4 concurrent workers.\n",
      "[Parallel(n_jobs=4)]: Done  30 out of  30 | elapsed:    9.2s finished\n"
     ]
    },
    {
     "data": {
      "text/plain": [
       "GridSearchCV(cv=5, estimator=RandomForestClassifier(), n_jobs=4,\n",
       "             param_grid={'max_depth': (15, 20), 'n_estimators': (10, 100, 150)},\n",
       "             verbose=1)"
      ]
     },
     "execution_count": 141,
     "metadata": {},
     "output_type": "execute_result"
    }
   ],
   "source": [
    "from sklearn.ensemble import RandomForestClassifier\n",
    "from sklearn.model_selection import GridSearchCV\n",
    "\n",
    "parameters = {\n",
    "    'max_depth': (15, 20),\n",
    "    'n_estimators': (10, 100, 150)\n",
    "}\n",
    "\n",
    "grid_search = GridSearchCV(RandomForestClassifier(), parameters, \n",
    "                           cv=5, n_jobs=4, verbose=1)\n",
    "grid_search.fit(X_train, corpus_train['Label'])"
   ]
  },
  {
   "cell_type": "code",
   "execution_count": 145,
   "metadata": {},
   "outputs": [
    {
     "data": {
      "text/plain": [
       "0.5423280423280423"
      ]
     },
     "execution_count": 145,
     "metadata": {},
     "output_type": "execute_result"
    }
   ],
   "source": [
    "# Get Score\n",
    "grid_search.score(X_val, corpus_val['Label'])"
   ]
  },
  {
   "cell_type": "code",
   "execution_count": null,
   "metadata": {},
   "outputs": [],
   "source": []
  }
 ],
 "metadata": {
  "kernelspec": {
   "display_name": "learning_nlp",
   "language": "python",
   "name": "learning_nlp"
  },
  "language_info": {
   "codemirror_mode": {
    "name": "ipython",
    "version": 3
   },
   "file_extension": ".py",
   "mimetype": "text/x-python",
   "name": "python",
   "nbconvert_exporter": "python",
   "pygments_lexer": "ipython3",
   "version": "3.8.1"
  }
 },
 "nbformat": 4,
 "nbformat_minor": 4
}
